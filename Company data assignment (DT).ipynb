{
 "cells": [
  {
   "cell_type": "code",
   "execution_count": 1,
   "metadata": {},
   "outputs": [],
   "source": [
    "# Importing the necessary libraries"
   ]
  },
  {
   "cell_type": "code",
   "execution_count": 2,
   "metadata": {},
   "outputs": [],
   "source": [
    "import numpy as np\n",
    "import pandas as pd\n",
    "import matplotlib.pyplot as plt\n",
    "from sklearn.model_selection import train_test_split\n",
    "from sklearn.metrics import confusion_matrix\n",
    "from sklearn.metrics import accuracy_score"
   ]
  },
  {
   "cell_type": "code",
   "execution_count": 3,
   "metadata": {},
   "outputs": [],
   "source": [
    "# Import the data"
   ]
  },
  {
   "cell_type": "code",
   "execution_count": 4,
   "metadata": {},
   "outputs": [
    {
     "data": {
      "text/html": [
       "<div>\n",
       "<style scoped>\n",
       "    .dataframe tbody tr th:only-of-type {\n",
       "        vertical-align: middle;\n",
       "    }\n",
       "\n",
       "    .dataframe tbody tr th {\n",
       "        vertical-align: top;\n",
       "    }\n",
       "\n",
       "    .dataframe thead th {\n",
       "        text-align: right;\n",
       "    }\n",
       "</style>\n",
       "<table border=\"1\" class=\"dataframe\">\n",
       "  <thead>\n",
       "    <tr style=\"text-align: right;\">\n",
       "      <th></th>\n",
       "      <th>Sales</th>\n",
       "      <th>CompPrice</th>\n",
       "      <th>Income</th>\n",
       "      <th>Advertising</th>\n",
       "      <th>Population</th>\n",
       "      <th>Price</th>\n",
       "      <th>ShelveLoc</th>\n",
       "      <th>Age</th>\n",
       "      <th>Education</th>\n",
       "      <th>Urban</th>\n",
       "      <th>US</th>\n",
       "    </tr>\n",
       "  </thead>\n",
       "  <tbody>\n",
       "    <tr>\n",
       "      <td>0</td>\n",
       "      <td>9.50</td>\n",
       "      <td>138</td>\n",
       "      <td>73</td>\n",
       "      <td>11</td>\n",
       "      <td>276</td>\n",
       "      <td>120</td>\n",
       "      <td>Bad</td>\n",
       "      <td>42</td>\n",
       "      <td>17</td>\n",
       "      <td>Yes</td>\n",
       "      <td>Yes</td>\n",
       "    </tr>\n",
       "    <tr>\n",
       "      <td>1</td>\n",
       "      <td>11.22</td>\n",
       "      <td>111</td>\n",
       "      <td>48</td>\n",
       "      <td>16</td>\n",
       "      <td>260</td>\n",
       "      <td>83</td>\n",
       "      <td>Good</td>\n",
       "      <td>65</td>\n",
       "      <td>10</td>\n",
       "      <td>Yes</td>\n",
       "      <td>Yes</td>\n",
       "    </tr>\n",
       "    <tr>\n",
       "      <td>2</td>\n",
       "      <td>10.06</td>\n",
       "      <td>113</td>\n",
       "      <td>35</td>\n",
       "      <td>10</td>\n",
       "      <td>269</td>\n",
       "      <td>80</td>\n",
       "      <td>Medium</td>\n",
       "      <td>59</td>\n",
       "      <td>12</td>\n",
       "      <td>Yes</td>\n",
       "      <td>Yes</td>\n",
       "    </tr>\n",
       "    <tr>\n",
       "      <td>3</td>\n",
       "      <td>7.40</td>\n",
       "      <td>117</td>\n",
       "      <td>100</td>\n",
       "      <td>4</td>\n",
       "      <td>466</td>\n",
       "      <td>97</td>\n",
       "      <td>Medium</td>\n",
       "      <td>55</td>\n",
       "      <td>14</td>\n",
       "      <td>Yes</td>\n",
       "      <td>Yes</td>\n",
       "    </tr>\n",
       "    <tr>\n",
       "      <td>4</td>\n",
       "      <td>4.15</td>\n",
       "      <td>141</td>\n",
       "      <td>64</td>\n",
       "      <td>3</td>\n",
       "      <td>340</td>\n",
       "      <td>128</td>\n",
       "      <td>Bad</td>\n",
       "      <td>38</td>\n",
       "      <td>13</td>\n",
       "      <td>Yes</td>\n",
       "      <td>No</td>\n",
       "    </tr>\n",
       "  </tbody>\n",
       "</table>\n",
       "</div>"
      ],
      "text/plain": [
       "   Sales  CompPrice  Income  Advertising  Population  Price ShelveLoc  Age  \\\n",
       "0   9.50        138      73           11         276    120       Bad   42   \n",
       "1  11.22        111      48           16         260     83      Good   65   \n",
       "2  10.06        113      35           10         269     80    Medium   59   \n",
       "3   7.40        117     100            4         466     97    Medium   55   \n",
       "4   4.15        141      64            3         340    128       Bad   38   \n",
       "\n",
       "   Education Urban   US  \n",
       "0         17   Yes  Yes  \n",
       "1         10   Yes  Yes  \n",
       "2         12   Yes  Yes  \n",
       "3         14   Yes  Yes  \n",
       "4         13   Yes   No  "
      ]
     },
     "execution_count": 4,
     "metadata": {},
     "output_type": "execute_result"
    }
   ],
   "source": [
    "data = pd.read_csv(\"D:\\Data science\\Assignments docs\\Decision tree\\Company_Data.csv\")\n",
    "data.head()"
   ]
  },
  {
   "cell_type": "code",
   "execution_count": 5,
   "metadata": {},
   "outputs": [
    {
     "data": {
      "text/plain": [
       "(400, 11)"
      ]
     },
     "execution_count": 5,
     "metadata": {},
     "output_type": "execute_result"
    }
   ],
   "source": [
    "data.shape"
   ]
  },
  {
   "cell_type": "code",
   "execution_count": 6,
   "metadata": {},
   "outputs": [
    {
     "data": {
      "text/html": [
       "<div>\n",
       "<style scoped>\n",
       "    .dataframe tbody tr th:only-of-type {\n",
       "        vertical-align: middle;\n",
       "    }\n",
       "\n",
       "    .dataframe tbody tr th {\n",
       "        vertical-align: top;\n",
       "    }\n",
       "\n",
       "    .dataframe thead th {\n",
       "        text-align: right;\n",
       "    }\n",
       "</style>\n",
       "<table border=\"1\" class=\"dataframe\">\n",
       "  <thead>\n",
       "    <tr style=\"text-align: right;\">\n",
       "      <th></th>\n",
       "      <th>Sales</th>\n",
       "      <th>CompPrice</th>\n",
       "      <th>Income</th>\n",
       "      <th>Advertising</th>\n",
       "      <th>Population</th>\n",
       "      <th>Price</th>\n",
       "      <th>Age</th>\n",
       "      <th>Education</th>\n",
       "    </tr>\n",
       "  </thead>\n",
       "  <tbody>\n",
       "    <tr>\n",
       "      <td>count</td>\n",
       "      <td>400.000000</td>\n",
       "      <td>400.000000</td>\n",
       "      <td>400.000000</td>\n",
       "      <td>400.000000</td>\n",
       "      <td>400.000000</td>\n",
       "      <td>400.000000</td>\n",
       "      <td>400.000000</td>\n",
       "      <td>400.000000</td>\n",
       "    </tr>\n",
       "    <tr>\n",
       "      <td>mean</td>\n",
       "      <td>7.496325</td>\n",
       "      <td>124.975000</td>\n",
       "      <td>68.657500</td>\n",
       "      <td>6.635000</td>\n",
       "      <td>264.840000</td>\n",
       "      <td>115.795000</td>\n",
       "      <td>53.322500</td>\n",
       "      <td>13.900000</td>\n",
       "    </tr>\n",
       "    <tr>\n",
       "      <td>std</td>\n",
       "      <td>2.824115</td>\n",
       "      <td>15.334512</td>\n",
       "      <td>27.986037</td>\n",
       "      <td>6.650364</td>\n",
       "      <td>147.376436</td>\n",
       "      <td>23.676664</td>\n",
       "      <td>16.200297</td>\n",
       "      <td>2.620528</td>\n",
       "    </tr>\n",
       "    <tr>\n",
       "      <td>min</td>\n",
       "      <td>0.000000</td>\n",
       "      <td>77.000000</td>\n",
       "      <td>21.000000</td>\n",
       "      <td>0.000000</td>\n",
       "      <td>10.000000</td>\n",
       "      <td>24.000000</td>\n",
       "      <td>25.000000</td>\n",
       "      <td>10.000000</td>\n",
       "    </tr>\n",
       "    <tr>\n",
       "      <td>25%</td>\n",
       "      <td>5.390000</td>\n",
       "      <td>115.000000</td>\n",
       "      <td>42.750000</td>\n",
       "      <td>0.000000</td>\n",
       "      <td>139.000000</td>\n",
       "      <td>100.000000</td>\n",
       "      <td>39.750000</td>\n",
       "      <td>12.000000</td>\n",
       "    </tr>\n",
       "    <tr>\n",
       "      <td>50%</td>\n",
       "      <td>7.490000</td>\n",
       "      <td>125.000000</td>\n",
       "      <td>69.000000</td>\n",
       "      <td>5.000000</td>\n",
       "      <td>272.000000</td>\n",
       "      <td>117.000000</td>\n",
       "      <td>54.500000</td>\n",
       "      <td>14.000000</td>\n",
       "    </tr>\n",
       "    <tr>\n",
       "      <td>75%</td>\n",
       "      <td>9.320000</td>\n",
       "      <td>135.000000</td>\n",
       "      <td>91.000000</td>\n",
       "      <td>12.000000</td>\n",
       "      <td>398.500000</td>\n",
       "      <td>131.000000</td>\n",
       "      <td>66.000000</td>\n",
       "      <td>16.000000</td>\n",
       "    </tr>\n",
       "    <tr>\n",
       "      <td>max</td>\n",
       "      <td>16.270000</td>\n",
       "      <td>175.000000</td>\n",
       "      <td>120.000000</td>\n",
       "      <td>29.000000</td>\n",
       "      <td>509.000000</td>\n",
       "      <td>191.000000</td>\n",
       "      <td>80.000000</td>\n",
       "      <td>18.000000</td>\n",
       "    </tr>\n",
       "  </tbody>\n",
       "</table>\n",
       "</div>"
      ],
      "text/plain": [
       "            Sales   CompPrice      Income  Advertising  Population  \\\n",
       "count  400.000000  400.000000  400.000000   400.000000  400.000000   \n",
       "mean     7.496325  124.975000   68.657500     6.635000  264.840000   \n",
       "std      2.824115   15.334512   27.986037     6.650364  147.376436   \n",
       "min      0.000000   77.000000   21.000000     0.000000   10.000000   \n",
       "25%      5.390000  115.000000   42.750000     0.000000  139.000000   \n",
       "50%      7.490000  125.000000   69.000000     5.000000  272.000000   \n",
       "75%      9.320000  135.000000   91.000000    12.000000  398.500000   \n",
       "max     16.270000  175.000000  120.000000    29.000000  509.000000   \n",
       "\n",
       "            Price         Age   Education  \n",
       "count  400.000000  400.000000  400.000000  \n",
       "mean   115.795000   53.322500   13.900000  \n",
       "std     23.676664   16.200297    2.620528  \n",
       "min     24.000000   25.000000   10.000000  \n",
       "25%    100.000000   39.750000   12.000000  \n",
       "50%    117.000000   54.500000   14.000000  \n",
       "75%    131.000000   66.000000   16.000000  \n",
       "max    191.000000   80.000000   18.000000  "
      ]
     },
     "execution_count": 6,
     "metadata": {},
     "output_type": "execute_result"
    }
   ],
   "source": [
    "data.describe()"
   ]
  },
  {
   "cell_type": "code",
   "execution_count": 7,
   "metadata": {},
   "outputs": [],
   "source": [
    "# Unique values in each column"
   ]
  },
  {
   "cell_type": "code",
   "execution_count": 8,
   "metadata": {
    "scrolled": true
   },
   "outputs": [
    {
     "data": {
      "text/plain": [
       "Sales          336\n",
       "CompPrice       73\n",
       "Income          98\n",
       "Advertising     28\n",
       "Population     275\n",
       "Price          101\n",
       "ShelveLoc        3\n",
       "Age             56\n",
       "Education        9\n",
       "Urban            2\n",
       "US               2\n",
       "dtype: int64"
      ]
     },
     "execution_count": 8,
     "metadata": {},
     "output_type": "execute_result"
    }
   ],
   "source": [
    "data.nunique()"
   ]
  },
  {
   "cell_type": "code",
   "execution_count": 9,
   "metadata": {},
   "outputs": [],
   "source": [
    "# Converting the continuous values of \"Sales\" into categorial values of \"High\" and \"Low\""
   ]
  },
  {
   "cell_type": "code",
   "execution_count": 10,
   "metadata": {},
   "outputs": [],
   "source": [
    "sales = pd.cut(data.Sales,bins=[0,8,17],labels=['Low','High'])"
   ]
  },
  {
   "cell_type": "code",
   "execution_count": 11,
   "metadata": {},
   "outputs": [],
   "source": [
    "# Combining the converted values into the original dataset and removing earlier column"
   ]
  },
  {
   "cell_type": "code",
   "execution_count": 12,
   "metadata": {
    "scrolled": true
   },
   "outputs": [
    {
     "data": {
      "text/html": [
       "<div>\n",
       "<style scoped>\n",
       "    .dataframe tbody tr th:only-of-type {\n",
       "        vertical-align: middle;\n",
       "    }\n",
       "\n",
       "    .dataframe tbody tr th {\n",
       "        vertical-align: top;\n",
       "    }\n",
       "\n",
       "    .dataframe thead th {\n",
       "        text-align: right;\n",
       "    }\n",
       "</style>\n",
       "<table border=\"1\" class=\"dataframe\">\n",
       "  <thead>\n",
       "    <tr style=\"text-align: right;\">\n",
       "      <th></th>\n",
       "      <th>sales</th>\n",
       "      <th>CompPrice</th>\n",
       "      <th>Income</th>\n",
       "      <th>Advertising</th>\n",
       "      <th>Population</th>\n",
       "      <th>Price</th>\n",
       "      <th>ShelveLoc</th>\n",
       "      <th>Age</th>\n",
       "      <th>Education</th>\n",
       "      <th>Urban</th>\n",
       "      <th>US</th>\n",
       "    </tr>\n",
       "  </thead>\n",
       "  <tbody>\n",
       "    <tr>\n",
       "      <td>0</td>\n",
       "      <td>High</td>\n",
       "      <td>138</td>\n",
       "      <td>73</td>\n",
       "      <td>11</td>\n",
       "      <td>276</td>\n",
       "      <td>120</td>\n",
       "      <td>Bad</td>\n",
       "      <td>42</td>\n",
       "      <td>17</td>\n",
       "      <td>Yes</td>\n",
       "      <td>Yes</td>\n",
       "    </tr>\n",
       "    <tr>\n",
       "      <td>1</td>\n",
       "      <td>High</td>\n",
       "      <td>111</td>\n",
       "      <td>48</td>\n",
       "      <td>16</td>\n",
       "      <td>260</td>\n",
       "      <td>83</td>\n",
       "      <td>Good</td>\n",
       "      <td>65</td>\n",
       "      <td>10</td>\n",
       "      <td>Yes</td>\n",
       "      <td>Yes</td>\n",
       "    </tr>\n",
       "    <tr>\n",
       "      <td>2</td>\n",
       "      <td>High</td>\n",
       "      <td>113</td>\n",
       "      <td>35</td>\n",
       "      <td>10</td>\n",
       "      <td>269</td>\n",
       "      <td>80</td>\n",
       "      <td>Medium</td>\n",
       "      <td>59</td>\n",
       "      <td>12</td>\n",
       "      <td>Yes</td>\n",
       "      <td>Yes</td>\n",
       "    </tr>\n",
       "    <tr>\n",
       "      <td>3</td>\n",
       "      <td>Low</td>\n",
       "      <td>117</td>\n",
       "      <td>100</td>\n",
       "      <td>4</td>\n",
       "      <td>466</td>\n",
       "      <td>97</td>\n",
       "      <td>Medium</td>\n",
       "      <td>55</td>\n",
       "      <td>14</td>\n",
       "      <td>Yes</td>\n",
       "      <td>Yes</td>\n",
       "    </tr>\n",
       "    <tr>\n",
       "      <td>4</td>\n",
       "      <td>Low</td>\n",
       "      <td>141</td>\n",
       "      <td>64</td>\n",
       "      <td>3</td>\n",
       "      <td>340</td>\n",
       "      <td>128</td>\n",
       "      <td>Bad</td>\n",
       "      <td>38</td>\n",
       "      <td>13</td>\n",
       "      <td>Yes</td>\n",
       "      <td>No</td>\n",
       "    </tr>\n",
       "  </tbody>\n",
       "</table>\n",
       "</div>"
      ],
      "text/plain": [
       "  sales  CompPrice  Income  Advertising  Population  Price ShelveLoc  Age  \\\n",
       "0  High        138      73           11         276    120       Bad   42   \n",
       "1  High        111      48           16         260     83      Good   65   \n",
       "2  High        113      35           10         269     80    Medium   59   \n",
       "3   Low        117     100            4         466     97    Medium   55   \n",
       "4   Low        141      64            3         340    128       Bad   38   \n",
       "\n",
       "   Education Urban   US  \n",
       "0         17   Yes  Yes  \n",
       "1         10   Yes  Yes  \n",
       "2         12   Yes  Yes  \n",
       "3         14   Yes  Yes  \n",
       "4         13   Yes   No  "
      ]
     },
     "execution_count": 12,
     "metadata": {},
     "output_type": "execute_result"
    }
   ],
   "source": [
    "data.insert(1,'sales',sales)\n",
    "data= data.iloc[:,1:12]\n",
    "data.head()"
   ]
  },
  {
   "cell_type": "markdown",
   "metadata": {},
   "source": [
    "## Data Exploration"
   ]
  },
  {
   "cell_type": "code",
   "execution_count": 13,
   "metadata": {},
   "outputs": [],
   "source": [
    "# Value counts for the output variable"
   ]
  },
  {
   "cell_type": "code",
   "execution_count": 14,
   "metadata": {},
   "outputs": [
    {
     "data": {
      "text/plain": [
       "Low     235\n",
       "High    164\n",
       "Name: sales, dtype: int64"
      ]
     },
     "execution_count": 14,
     "metadata": {},
     "output_type": "execute_result"
    }
   ],
   "source": [
    "data.sales.value_counts()"
   ]
  },
  {
   "cell_type": "code",
   "execution_count": 15,
   "metadata": {},
   "outputs": [],
   "source": [
    "import seaborn as sns"
   ]
  },
  {
   "cell_type": "code",
   "execution_count": 16,
   "metadata": {},
   "outputs": [
    {
     "data": {
      "text/plain": [
       "<matplotlib.axes._subplots.AxesSubplot at 0x1d6a8235ac8>"
      ]
     },
     "execution_count": 16,
     "metadata": {},
     "output_type": "execute_result"
    },
    {
     "data": {
      "image/png": "[encoded data removed]",
      "text/plain": [
       "<Figure size 432x288 with 1 Axes>"
      ]
     },
     "metadata": {
      "needs_background": "light"
     },
     "output_type": "display_data"
    }
   ],
   "source": [
    "sns.countplot(data[\"sales\"], palette=\"hls\")"
   ]
  },
  {
   "cell_type": "code",
   "execution_count": 17,
   "metadata": {},
   "outputs": [],
   "source": [
    "# Counts for \"Low\" sales is high compared to \"High\" counts"
   ]
  },
  {
   "cell_type": "code",
   "execution_count": 18,
   "metadata": {},
   "outputs": [
    {
     "data": {
      "text/plain": [
       "<matplotlib.axes._subplots.AxesSubplot at 0x1d6a84d4888>"
      ]
     },
     "execution_count": 18,
     "metadata": {},
     "output_type": "execute_result"
    },
    {
     "data": {
      "image/png": "[encoded data removed]",
      "text/plain": [
       "<Figure size 432x288 with 1 Axes>"
      ]
     },
     "metadata": {
      "needs_background": "light"
     },
     "output_type": "display_data"
    }
   ],
   "source": [
    "sns.countplot(data[\"ShelveLoc\"], palette=\"hls\")"
   ]
  },
  {
   "cell_type": "code",
   "execution_count": 19,
   "metadata": {},
   "outputs": [],
   "source": [
    "# There are more \"Medium\" quality shleves in many locations compared to \"Good\" and \"Bad\" category shelves"
   ]
  },
  {
   "cell_type": "code",
   "execution_count": 20,
   "metadata": {},
   "outputs": [
    {
     "data": {
      "text/plain": [
       "<matplotlib.axes._subplots.AxesSubplot at 0x1d6a8557108>"
      ]
     },
     "execution_count": 20,
     "metadata": {},
     "output_type": "execute_result"
    },
    {
     "data": {
      "image/png": "[encoded data removed]",
      "text/plain": [
       "<Figure size 432x288 with 1 Axes>"
      ]
     },
     "metadata": {
      "needs_background": "light"
     },
     "output_type": "display_data"
    }
   ],
   "source": [
    "sns.countplot(data[\"Urban\"], palette=\"hls\")"
   ]
  },
  {
   "cell_type": "code",
   "execution_count": 21,
   "metadata": {},
   "outputs": [],
   "source": [
    "# Most of the stores are in \"Urban\" locations comapred to \"Non-urban\""
   ]
  },
  {
   "cell_type": "code",
   "execution_count": 22,
   "metadata": {},
   "outputs": [
    {
     "data": {
      "text/plain": [
       "<matplotlib.axes._subplots.AxesSubplot at 0x1d6a85c18c8>"
      ]
     },
     "execution_count": 22,
     "metadata": {},
     "output_type": "execute_result"
    },
    {
     "data": {
      "image/png": "[encoded data removed]",
      "text/plain": [
       "<Figure size 432x288 with 1 Axes>"
      ]
     },
     "metadata": {
      "needs_background": "light"
     },
     "output_type": "display_data"
    }
   ],
   "source": [
    "sns.countplot(data[\"US\"], palette=\"hls\")"
   ]
  },
  {
   "cell_type": "code",
   "execution_count": 23,
   "metadata": {},
   "outputs": [],
   "source": [
    "# Most of the stores are located in \"US\" and few others in other countries"
   ]
  },
  {
   "cell_type": "code",
   "execution_count": 24,
   "metadata": {
    "scrolled": true
   },
   "outputs": [
    {
     "data": {
      "text/plain": [
       "{'whiskers': [<matplotlib.lines.Line2D at 0x1d6a8651788>,\n",
       "  <matplotlib.lines.Line2D at 0x1d6a8651f48>],\n",
       " 'caps': [<matplotlib.lines.Line2D at 0x1d6a8656748>,\n",
       "  <matplotlib.lines.Line2D at 0x1d6a8656ec8>],\n",
       " 'boxes': [<matplotlib.lines.Line2D at 0x1d6a8648d08>],\n",
       " 'medians': [<matplotlib.lines.Line2D at 0x1d6a8656f88>],\n",
       " 'fliers': [<matplotlib.lines.Line2D at 0x1d6a865af08>],\n",
       " 'means': []}"
      ]
     },
     "execution_count": 24,
     "metadata": {},
     "output_type": "execute_result"
    },
    {
     "data": {
      "image/png": "[encoded data removed]",
      "text/plain": [
       "<Figure size 432x288 with 1 Axes>"
      ]
     },
     "metadata": {
      "needs_background": "light"
     },
     "output_type": "display_data"
    }
   ],
   "source": [
    "plt.boxplot(data[\"Income\"])"
   ]
  },
  {
   "cell_type": "code",
   "execution_count": 25,
   "metadata": {},
   "outputs": [],
   "source": [
    "# Income of the community ranges from 20 to 120 thousands with mean income of around 68 thoudands"
   ]
  },
  {
   "cell_type": "code",
   "execution_count": 26,
   "metadata": {},
   "outputs": [
    {
     "data": {
      "text/plain": [
       "{'whiskers': [<matplotlib.lines.Line2D at 0x1d6a86bb748>,\n",
       "  <matplotlib.lines.Line2D at 0x1d6a86bbf08>],\n",
       " 'caps': [<matplotlib.lines.Line2D at 0x1d6a86bbfc8>,\n",
       "  <matplotlib.lines.Line2D at 0x1d6a86c1e88>],\n",
       " 'boxes': [<matplotlib.lines.Line2D at 0x1d6a86b7c48>],\n",
       " 'medians': [<matplotlib.lines.Line2D at 0x1d6a86c1f48>],\n",
       " 'fliers': [<matplotlib.lines.Line2D at 0x1d6a86c4e08>],\n",
       " 'means': []}"
      ]
     },
     "execution_count": 26,
     "metadata": {},
     "output_type": "execute_result"
    },
    {
     "data": {
      "image/png": "[encoded data removed]",
      "text/plain": [
       "<Figure size 432x288 with 1 Axes>"
      ]
     },
     "metadata": {
      "needs_background": "light"
     },
     "output_type": "display_data"
    }
   ],
   "source": [
    "plt.boxplot(data[\"Population\"])"
   ]
  },
  {
   "cell_type": "code",
   "execution_count": 27,
   "metadata": {},
   "outputs": [],
   "source": [
    "# Population of the region ranges from 10 to 509 thousands with mean population of around 260 thousands"
   ]
  },
  {
   "cell_type": "code",
   "execution_count": 28,
   "metadata": {},
   "outputs": [
    {
     "data": {
      "text/plain": [
       "{'whiskers': [<matplotlib.lines.Line2D at 0x1d6a8727548>,\n",
       "  <matplotlib.lines.Line2D at 0x1d6a8727d08>],\n",
       " 'caps': [<matplotlib.lines.Line2D at 0x1d6a8727dc8>,\n",
       "  <matplotlib.lines.Line2D at 0x1d6a872cc88>],\n",
       " 'boxes': [<matplotlib.lines.Line2D at 0x1d6a87229c8>],\n",
       " 'medians': [<matplotlib.lines.Line2D at 0x1d6a872cd48>],\n",
       " 'fliers': [<matplotlib.lines.Line2D at 0x1d6a8730c08>],\n",
       " 'means': []}"
      ]
     },
     "execution_count": 28,
     "metadata": {},
     "output_type": "execute_result"
    },
    {
     "data": {
      "image/png": "[encoded data removed]",
      "text/plain": [
       "<Figure size 432x288 with 1 Axes>"
      ]
     },
     "metadata": {
      "needs_background": "light"
     },
     "output_type": "display_data"
    }
   ],
   "source": [
    "plt.boxplot(data[\"Age\"])"
   ]
  },
  {
   "cell_type": "code",
   "execution_count": 29,
   "metadata": {},
   "outputs": [],
   "source": [
    "# Average age of population ranges from 25 to 80, with mean age being 53 "
   ]
  },
  {
   "cell_type": "code",
   "execution_count": 30,
   "metadata": {},
   "outputs": [],
   "source": [
    "# Obtaining the dummy variables for 'ShelveLoc','Urban','US'"
   ]
  },
  {
   "cell_type": "code",
   "execution_count": 31,
   "metadata": {
    "scrolled": true
   },
   "outputs": [
    {
     "data": {
      "text/html": [
       "<div>\n",
       "<style scoped>\n",
       "    .dataframe tbody tr th:only-of-type {\n",
       "        vertical-align: middle;\n",
       "    }\n",
       "\n",
       "    .dataframe tbody tr th {\n",
       "        vertical-align: top;\n",
       "    }\n",
       "\n",
       "    .dataframe thead th {\n",
       "        text-align: right;\n",
       "    }\n",
       "</style>\n",
       "<table border=\"1\" class=\"dataframe\">\n",
       "  <thead>\n",
       "    <tr style=\"text-align: right;\">\n",
       "      <th></th>\n",
       "      <th>sales</th>\n",
       "      <th>CompPrice</th>\n",
       "      <th>Income</th>\n",
       "      <th>Advertising</th>\n",
       "      <th>Population</th>\n",
       "      <th>Price</th>\n",
       "      <th>Age</th>\n",
       "      <th>Education</th>\n",
       "      <th>ShelveLoc_Good</th>\n",
       "      <th>ShelveLoc_Medium</th>\n",
       "      <th>Urban_Yes</th>\n",
       "      <th>US_Yes</th>\n",
       "    </tr>\n",
       "  </thead>\n",
       "  <tbody>\n",
       "    <tr>\n",
       "      <td>0</td>\n",
       "      <td>High</td>\n",
       "      <td>138</td>\n",
       "      <td>73</td>\n",
       "      <td>11</td>\n",
       "      <td>276</td>\n",
       "      <td>120</td>\n",
       "      <td>42</td>\n",
       "      <td>17</td>\n",
       "      <td>0</td>\n",
       "      <td>0</td>\n",
       "      <td>1</td>\n",
       "      <td>1</td>\n",
       "    </tr>\n",
       "    <tr>\n",
       "      <td>1</td>\n",
       "      <td>High</td>\n",
       "      <td>111</td>\n",
       "      <td>48</td>\n",
       "      <td>16</td>\n",
       "      <td>260</td>\n",
       "      <td>83</td>\n",
       "      <td>65</td>\n",
       "      <td>10</td>\n",
       "      <td>1</td>\n",
       "      <td>0</td>\n",
       "      <td>1</td>\n",
       "      <td>1</td>\n",
       "    </tr>\n",
       "    <tr>\n",
       "      <td>2</td>\n",
       "      <td>High</td>\n",
       "      <td>113</td>\n",
       "      <td>35</td>\n",
       "      <td>10</td>\n",
       "      <td>269</td>\n",
       "      <td>80</td>\n",
       "      <td>59</td>\n",
       "      <td>12</td>\n",
       "      <td>0</td>\n",
       "      <td>1</td>\n",
       "      <td>1</td>\n",
       "      <td>1</td>\n",
       "    </tr>\n",
       "    <tr>\n",
       "      <td>3</td>\n",
       "      <td>Low</td>\n",
       "      <td>117</td>\n",
       "      <td>100</td>\n",
       "      <td>4</td>\n",
       "      <td>466</td>\n",
       "      <td>97</td>\n",
       "      <td>55</td>\n",
       "      <td>14</td>\n",
       "      <td>0</td>\n",
       "      <td>1</td>\n",
       "      <td>1</td>\n",
       "      <td>1</td>\n",
       "    </tr>\n",
       "    <tr>\n",
       "      <td>4</td>\n",
       "      <td>Low</td>\n",
       "      <td>141</td>\n",
       "      <td>64</td>\n",
       "      <td>3</td>\n",
       "      <td>340</td>\n",
       "      <td>128</td>\n",
       "      <td>38</td>\n",
       "      <td>13</td>\n",
       "      <td>0</td>\n",
       "      <td>0</td>\n",
       "      <td>1</td>\n",
       "      <td>0</td>\n",
       "    </tr>\n",
       "  </tbody>\n",
       "</table>\n",
       "</div>"
      ],
      "text/plain": [
       "  sales  CompPrice  Income  Advertising  Population  Price  Age  Education  \\\n",
       "0  High        138      73           11         276    120   42         17   \n",
       "1  High        111      48           16         260     83   65         10   \n",
       "2  High        113      35           10         269     80   59         12   \n",
       "3   Low        117     100            4         466     97   55         14   \n",
       "4   Low        141      64            3         340    128   38         13   \n",
       "\n",
       "   ShelveLoc_Good  ShelveLoc_Medium  Urban_Yes  US_Yes  \n",
       "0               0                 0          1       1  \n",
       "1               1                 0          1       1  \n",
       "2               0                 1          1       1  \n",
       "3               0                 1          1       1  \n",
       "4               0                 0          1       0  "
      ]
     },
     "execution_count": 31,
     "metadata": {},
     "output_type": "execute_result"
    }
   ],
   "source": [
    "data1 = pd.get_dummies(data, columns=['ShelveLoc','Urban','US'], drop_first = True)\n",
    "data1.head()"
   ]
  },
  {
   "cell_type": "code",
   "execution_count": 32,
   "metadata": {},
   "outputs": [],
   "source": [
    "# Checking for NA values in the dataset"
   ]
  },
  {
   "cell_type": "code",
   "execution_count": 33,
   "metadata": {},
   "outputs": [
    {
     "data": {
      "text/plain": [
       "sales               1\n",
       "CompPrice           0\n",
       "Income              0\n",
       "Advertising         0\n",
       "Population          0\n",
       "Price               0\n",
       "Age                 0\n",
       "Education           0\n",
       "ShelveLoc_Good      0\n",
       "ShelveLoc_Medium    0\n",
       "Urban_Yes           0\n",
       "US_Yes              0\n",
       "dtype: int64"
      ]
     },
     "execution_count": 33,
     "metadata": {},
     "output_type": "execute_result"
    }
   ],
   "source": [
    "data1.isna().sum()"
   ]
  },
  {
   "cell_type": "code",
   "execution_count": 34,
   "metadata": {},
   "outputs": [],
   "source": [
    "# There is one NA value in the dataset"
   ]
  },
  {
   "cell_type": "code",
   "execution_count": 35,
   "metadata": {},
   "outputs": [],
   "source": [
    "data1 = data1.dropna()               # Removing the NA value"
   ]
  },
  {
   "cell_type": "code",
   "execution_count": 36,
   "metadata": {},
   "outputs": [
    {
     "data": {
      "text/plain": [
       "(399, 12)"
      ]
     },
     "execution_count": 36,
     "metadata": {},
     "output_type": "execute_result"
    }
   ],
   "source": [
    "data1.shape"
   ]
  },
  {
   "cell_type": "code",
   "execution_count": 37,
   "metadata": {},
   "outputs": [],
   "source": [
    "# Divivng the data into X and Y i.e. predictors and target"
   ]
  },
  {
   "cell_type": "code",
   "execution_count": 38,
   "metadata": {},
   "outputs": [],
   "source": [
    "X = data1.iloc[:,1:]\n",
    "Y = data1.iloc[:,0]"
   ]
  },
  {
   "cell_type": "code",
   "execution_count": 39,
   "metadata": {},
   "outputs": [],
   "source": [
    "# Splitting the data into training and testing dataset"
   ]
  },
  {
   "cell_type": "code",
   "execution_count": 40,
   "metadata": {},
   "outputs": [],
   "source": [
    "x_train,x_test,y_train,y_test= train_test_split(X,Y, test_size=0.2)"
   ]
  },
  {
   "cell_type": "markdown",
   "metadata": {},
   "source": [
    "## Decision tree model"
   ]
  },
  {
   "cell_type": "code",
   "execution_count": 108,
   "metadata": {},
   "outputs": [],
   "source": [
    "# Building the Decision tree model with \"entropy\" as criterion"
   ]
  },
  {
   "cell_type": "code",
   "execution_count": 109,
   "metadata": {},
   "outputs": [],
   "source": [
    "from sklearn.tree import DecisionTreeClassifier \n",
    "from sklearn import tree"
   ]
  },
  {
   "cell_type": "code",
   "execution_count": 110,
   "metadata": {},
   "outputs": [],
   "source": [
    "model = DecisionTreeClassifier(criterion=\"entropy\")"
   ]
  },
  {
   "cell_type": "code",
   "execution_count": 111,
   "metadata": {},
   "outputs": [
    {
     "data": {
      "text/plain": [
       "DecisionTreeClassifier(criterion='entropy')"
      ]
     },
     "execution_count": 111,
     "metadata": {},
     "output_type": "execute_result"
    }
   ],
   "source": [
    "model.fit(x_train, y_train)"
   ]
  },
  {
   "cell_type": "code",
   "execution_count": 112,
   "metadata": {},
   "outputs": [],
   "source": [
    "# Predicting the target values using the model"
   ]
  },
  {
   "cell_type": "code",
   "execution_count": 113,
   "metadata": {},
   "outputs": [
    {
     "data": {
      "text/plain": [
       "array(['High', 'Low', 'Low', 'High', 'Low', 'High', 'Low', 'High', 'High',\n",
       "       'Low', 'High', 'High', 'High', 'High', 'Low', 'High', 'High',\n",
       "       'High', 'Low', 'Low', 'Low', 'Low', 'High', 'High', 'Low', 'High',\n",
       "       'High', 'High', 'Low', 'High', 'Low', 'Low', 'Low', 'Low', 'Low',\n",
       "       'High', 'Low', 'High', 'Low', 'High', 'Low', 'Low', 'Low', 'Low',\n",
       "       'Low', 'Low', 'High', 'Low', 'Low', 'High', 'Low', 'Low', 'High',\n",
       "       'High', 'Low', 'Low', 'Low', 'Low', 'High', 'Low', 'Low', 'High',\n",
       "       'High', 'Low', 'Low', 'Low', 'Low', 'Low', 'Low', 'High', 'Low',\n",
       "       'Low', 'Low', 'Low', 'High', 'Low', 'High', 'High', 'High', 'Low'],\n",
       "      dtype=object)"
      ]
     },
     "execution_count": 113,
     "metadata": {},
     "output_type": "execute_result"
    }
   ],
   "source": [
    "y_pred = model.predict(x_test)\n",
    "y_pred"
   ]
  },
  {
   "cell_type": "code",
   "execution_count": 114,
   "metadata": {},
   "outputs": [],
   "source": [
    "# Value counts of predicted values"
   ]
  },
  {
   "cell_type": "code",
   "execution_count": 115,
   "metadata": {},
   "outputs": [
    {
     "data": {
      "text/plain": [
       "Low     47\n",
       "High    33\n",
       "dtype: int64"
      ]
     },
     "execution_count": 115,
     "metadata": {},
     "output_type": "execute_result"
    }
   ],
   "source": [
    "pd.Series(y_pred).value_counts()"
   ]
  },
  {
   "cell_type": "code",
   "execution_count": 116,
   "metadata": {},
   "outputs": [],
   "source": [
    "# Buliding confusion matrix"
   ]
  },
  {
   "cell_type": "code",
   "execution_count": 117,
   "metadata": {},
   "outputs": [
    {
     "data": {
      "text/plain": [
       "array([[24,  9],\n",
       "       [14, 33]], dtype=int64)"
      ]
     },
     "execution_count": 117,
     "metadata": {},
     "output_type": "execute_result"
    }
   ],
   "source": [
    "confusion_matrix(y_pred, y_test)"
   ]
  },
  {
   "cell_type": "code",
   "execution_count": 118,
   "metadata": {},
   "outputs": [
    {
     "data": {
      "text/html": [
       "<div>\n",
       "<style scoped>\n",
       "    .dataframe tbody tr th:only-of-type {\n",
       "        vertical-align: middle;\n",
       "    }\n",
       "\n",
       "    .dataframe tbody tr th {\n",
       "        vertical-align: top;\n",
       "    }\n",
       "\n",
       "    .dataframe thead th {\n",
       "        text-align: right;\n",
       "    }\n",
       "</style>\n",
       "<table border=\"1\" class=\"dataframe\">\n",
       "  <thead>\n",
       "    <tr style=\"text-align: right;\">\n",
       "      <th>sales</th>\n",
       "      <th>Low</th>\n",
       "      <th>High</th>\n",
       "    </tr>\n",
       "    <tr>\n",
       "      <th>row_0</th>\n",
       "      <th></th>\n",
       "      <th></th>\n",
       "    </tr>\n",
       "  </thead>\n",
       "  <tbody>\n",
       "    <tr>\n",
       "      <td>High</td>\n",
       "      <td>9</td>\n",
       "      <td>24</td>\n",
       "    </tr>\n",
       "    <tr>\n",
       "      <td>Low</td>\n",
       "      <td>33</td>\n",
       "      <td>14</td>\n",
       "    </tr>\n",
       "  </tbody>\n",
       "</table>\n",
       "</div>"
      ],
      "text/plain": [
       "sales  Low  High\n",
       "row_0           \n",
       "High     9    24\n",
       "Low     33    14"
      ]
     },
     "execution_count": 118,
     "metadata": {},
     "output_type": "execute_result"
    }
   ],
   "source": [
    "pd.crosstab(y_pred, y_test)              # Cross tabulation can also be used"
   ]
  },
  {
   "cell_type": "code",
   "execution_count": 119,
   "metadata": {},
   "outputs": [],
   "source": [
    "# Accuracy of the model"
   ]
  },
  {
   "cell_type": "code",
   "execution_count": 120,
   "metadata": {},
   "outputs": [
    {
     "data": {
      "text/plain": [
       "0.7125"
      ]
     },
     "execution_count": 120,
     "metadata": {},
     "output_type": "execute_result"
    }
   ],
   "source": [
    "Accuracy_entropy = accuracy_score(y_pred,y_test)\n",
    "Accuracy_entropy"
   ]
  },
  {
   "cell_type": "code",
   "execution_count": 121,
   "metadata": {},
   "outputs": [],
   "source": [
    "# Using the Decision tree model again but using the \"gini\" as criterion"
   ]
  },
  {
   "cell_type": "code",
   "execution_count": 122,
   "metadata": {},
   "outputs": [],
   "source": [
    "model1 = DecisionTreeClassifier(criterion=\"gini\")"
   ]
  },
  {
   "cell_type": "code",
   "execution_count": 123,
   "metadata": {},
   "outputs": [
    {
     "data": {
      "text/plain": [
       "DecisionTreeClassifier()"
      ]
     },
     "execution_count": 123,
     "metadata": {},
     "output_type": "execute_result"
    }
   ],
   "source": [
    "model1.fit(x_train, y_train)"
   ]
  },
  {
   "cell_type": "code",
   "execution_count": 124,
   "metadata": {},
   "outputs": [],
   "source": [
    "# Predicting the target values using the model"
   ]
  },
  {
   "cell_type": "code",
   "execution_count": 125,
   "metadata": {},
   "outputs": [
    {
     "data": {
      "text/plain": [
       "array(['High', 'High', 'Low', 'High', 'Low', 'High', 'High', 'High',\n",
       "       'High', 'Low', 'High', 'High', 'Low', 'Low', 'Low', 'Low', 'High',\n",
       "       'Low', 'Low', 'Low', 'Low', 'High', 'Low', 'High', 'Low', 'Low',\n",
       "       'High', 'High', 'Low', 'Low', 'Low', 'Low', 'Low', 'Low', 'Low',\n",
       "       'Low', 'Low', 'High', 'Low', 'Low', 'High', 'Low', 'Low', 'Low',\n",
       "       'Low', 'Low', 'High', 'Low', 'Low', 'High', 'Low', 'Low', 'High',\n",
       "       'Low', 'High', 'Low', 'Low', 'High', 'High', 'Low', 'Low', 'High',\n",
       "       'High', 'Low', 'Low', 'Low', 'Low', 'Low', 'Low', 'High', 'Low',\n",
       "       'Low', 'Low', 'Low', 'High', 'Low', 'High', 'High', 'Low', 'Low'],\n",
       "      dtype=object)"
      ]
     },
     "execution_count": 125,
     "metadata": {},
     "output_type": "execute_result"
    }
   ],
   "source": [
    "y_pred1 = model1.predict(x_test)\n",
    "y_pred1"
   ]
  },
  {
   "cell_type": "code",
   "execution_count": 126,
   "metadata": {},
   "outputs": [],
   "source": [
    "# Value counts of predicted values"
   ]
  },
  {
   "cell_type": "code",
   "execution_count": 127,
   "metadata": {},
   "outputs": [
    {
     "data": {
      "text/plain": [
       "Low     52\n",
       "High    28\n",
       "dtype: int64"
      ]
     },
     "execution_count": 127,
     "metadata": {},
     "output_type": "execute_result"
    }
   ],
   "source": [
    "pd.Series(y_pred1).value_counts()"
   ]
  },
  {
   "cell_type": "code",
   "execution_count": 128,
   "metadata": {},
   "outputs": [],
   "source": [
    "# Buliding the confusion matrix"
   ]
  },
  {
   "cell_type": "code",
   "execution_count": 129,
   "metadata": {},
   "outputs": [
    {
     "data": {
      "text/plain": [
       "array([[22,  6],\n",
       "       [16, 36]], dtype=int64)"
      ]
     },
     "execution_count": 129,
     "metadata": {},
     "output_type": "execute_result"
    }
   ],
   "source": [
    "confusion_matrix(y_pred1, y_test)"
   ]
  },
  {
   "cell_type": "code",
   "execution_count": 130,
   "metadata": {},
   "outputs": [],
   "source": [
    "# Visualizing the Decision tree"
   ]
  },
  {
   "cell_type": "code",
   "execution_count": 131,
   "metadata": {
    "scrolled": false
   },
   "outputs": [
    {
     "data": {
      "text/plain": [
       "[Text(500.05807086614175, 520.95, 'X[7] <= 0.5\\ngini = 0.478\\nsamples = 319\\nvalue = [126, 193]'),\n",
       " Text(242.2027559055118, 475.65000000000003, 'X[4] <= 92.5\\ngini = 0.418\\nsamples = 252\\nvalue = [75, 177]'),\n",
       " Text(98.85826771653544, 430.35, 'X[1] <= 83.5\\ngini = 0.418\\nsamples = 37\\nvalue = [26, 11]'),\n",
       " Text(52.724409448818896, 385.05, 'X[8] <= 0.5\\ngini = 0.499\\nsamples = 19\\nvalue = [9, 10]'),\n",
       " Text(26.362204724409448, 339.75, 'X[4] <= 71.0\\ngini = 0.219\\nsamples = 8\\nvalue = [1, 7]'),\n",
       " Text(13.181102362204724, 294.45, 'gini = 0.0\\nsamples = 1\\nvalue = [1, 0]'),\n",
       " Text(39.54330708661417, 294.45, 'gini = 0.0\\nsamples = 7\\nvalue = [0, 7]'),\n",
       " Text(79.08661417322834, 339.75, 'X[1] <= 70.0\\ngini = 0.397\\nsamples = 11\\nvalue = [8, 3]'),\n",
       " Text(65.90551181102362, 294.45, 'gini = 0.0\\nsamples = 6\\nvalue = [6, 0]'),\n",
       " Text(92.26771653543307, 294.45, 'X[3] <= 177.5\\ngini = 0.48\\nsamples = 5\\nvalue = [2, 3]'),\n",
       " Text(79.08661417322834, 249.14999999999998, 'gini = 0.0\\nsamples = 3\\nvalue = [0, 3]'),\n",
       " Text(105.44881889763779, 249.14999999999998, 'gini = 0.0\\nsamples = 2\\nvalue = [2, 0]'),\n",
       " Text(144.99212598425197, 385.05, 'X[0] <= 93.5\\ngini = 0.105\\nsamples = 18\\nvalue = [17, 1]'),\n",
       " Text(131.81102362204723, 339.75, 'X[2] <= 10.5\\ngini = 0.444\\nsamples = 3\\nvalue = [2, 1]'),\n",
       " Text(118.62992125984252, 294.45, 'gini = 0.0\\nsamples = 1\\nvalue = [0, 1]'),\n",
       " Text(144.99212598425197, 294.45, 'gini = 0.0\\nsamples = 2\\nvalue = [2, 0]'),\n",
       " Text(158.17322834645668, 339.75, 'gini = 0.0\\nsamples = 15\\nvalue = [15, 0]'),\n",
       " Text(385.5472440944882, 430.35, 'X[2] <= 7.5\\ngini = 0.352\\nsamples = 215\\nvalue = [49, 166]'),\n",
       " Text(260.3267716535433, 385.05, 'X[5] <= 49.5\\ngini = 0.233\\nsamples = 134\\nvalue = [18, 116]'),\n",
       " Text(184.53543307086613, 339.75, 'X[8] <= 0.5\\ngini = 0.383\\nsamples = 58\\nvalue = [15, 43]'),\n",
       " Text(171.35433070866142, 294.45, 'gini = 0.0\\nsamples = 20\\nvalue = [0, 20]'),\n",
       " Text(197.71653543307087, 294.45, 'X[0] <= 129.5\\ngini = 0.478\\nsamples = 38\\nvalue = [15, 23]'),\n",
       " Text(164.76377952755905, 249.14999999999998, 'X[5] <= 47.0\\ngini = 0.219\\nsamples = 16\\nvalue = [2, 14]'),\n",
       " Text(151.58267716535434, 203.84999999999997, 'X[4] <= 100.0\\ngini = 0.124\\nsamples = 15\\nvalue = [1, 14]'),\n",
       " Text(138.4015748031496, 158.55, 'X[10] <= 0.5\\ngini = 0.5\\nsamples = 2\\nvalue = [1, 1]'),\n",
       " Text(125.22047244094487, 113.25, 'gini = 0.0\\nsamples = 1\\nvalue = [0, 1]'),\n",
       " Text(151.58267716535434, 113.25, 'gini = 0.0\\nsamples = 1\\nvalue = [1, 0]'),\n",
       " Text(164.76377952755905, 158.55, 'gini = 0.0\\nsamples = 13\\nvalue = [0, 13]'),\n",
       " Text(177.94488188976376, 203.84999999999997, 'gini = 0.0\\nsamples = 1\\nvalue = [1, 0]'),\n",
       " Text(230.66929133858267, 249.14999999999998, 'X[4] <= 143.0\\ngini = 0.483\\nsamples = 22\\nvalue = [13, 9]'),\n",
       " Text(217.48818897637796, 203.84999999999997, 'X[5] <= 47.5\\ngini = 0.36\\nsamples = 17\\nvalue = [13, 4]'),\n",
       " Text(204.30708661417322, 158.55, 'X[3] <= 68.5\\ngini = 0.231\\nsamples = 15\\nvalue = [13, 2]'),\n",
       " Text(177.94488188976376, 113.25, 'X[6] <= 12.0\\ngini = 0.5\\nsamples = 2\\nvalue = [1, 1]'),\n",
       " Text(164.76377952755905, 67.94999999999999, 'gini = 0.0\\nsamples = 1\\nvalue = [0, 1]'),\n",
       " Text(191.1259842519685, 67.94999999999999, 'gini = 0.0\\nsamples = 1\\nvalue = [1, 0]'),\n",
       " Text(230.66929133858267, 113.25, 'X[9] <= 0.5\\ngini = 0.142\\nsamples = 13\\nvalue = [12, 1]'),\n",
       " Text(217.48818897637796, 67.94999999999999, 'X[3] <= 203.5\\ngini = 0.444\\nsamples = 3\\nvalue = [2, 1]'),\n",
       " Text(204.30708661417322, 22.649999999999977, 'gini = 0.0\\nsamples = 2\\nvalue = [2, 0]'),\n",
       " Text(230.66929133858267, 22.649999999999977, 'gini = 0.0\\nsamples = 1\\nvalue = [0, 1]'),\n",
       " Text(243.8503937007874, 67.94999999999999, 'gini = 0.0\\nsamples = 10\\nvalue = [10, 0]'),\n",
       " Text(230.66929133858267, 158.55, 'gini = 0.0\\nsamples = 2\\nvalue = [0, 2]'),\n",
       " Text(243.8503937007874, 203.84999999999997, 'gini = 0.0\\nsamples = 5\\nvalue = [0, 5]'),\n",
       " Text(336.11811023622045, 339.75, 'X[0] <= 148.0\\ngini = 0.076\\nsamples = 76\\nvalue = [3, 73]'),\n",
       " Text(309.755905511811, 294.45, 'X[4] <= 102.5\\ngini = 0.054\\nsamples = 72\\nvalue = [2, 70]'),\n",
       " Text(296.5748031496063, 249.14999999999998, 'X[6] <= 10.5\\ngini = 0.159\\nsamples = 23\\nvalue = [2, 21]'),\n",
       " Text(270.21259842519686, 203.84999999999997, 'X[8] <= 0.5\\ngini = 0.5\\nsamples = 2\\nvalue = [1, 1]'),\n",
       " Text(257.0314960629921, 158.55, 'gini = 0.0\\nsamples = 1\\nvalue = [1, 0]'),\n",
       " Text(283.39370078740154, 158.55, 'gini = 0.0\\nsamples = 1\\nvalue = [0, 1]'),\n",
       " Text(322.93700787401576, 203.84999999999997, 'X[0] <= 128.5\\ngini = 0.091\\nsamples = 21\\nvalue = [1, 20]'),\n",
       " Text(309.755905511811, 158.55, 'gini = 0.0\\nsamples = 19\\nvalue = [0, 19]'),\n",
       " Text(336.11811023622045, 158.55, 'X[3] <= 274.0\\ngini = 0.5\\nsamples = 2\\nvalue = [1, 1]'),\n",
       " Text(322.93700787401576, 113.25, 'gini = 0.0\\nsamples = 1\\nvalue = [0, 1]'),\n",
       " Text(349.2992125984252, 113.25, 'gini = 0.0\\nsamples = 1\\nvalue = [1, 0]'),\n",
       " Text(322.93700787401576, 249.14999999999998, 'gini = 0.0\\nsamples = 49\\nvalue = [0, 49]'),\n",
       " Text(362.4803149606299, 294.45, 'X[2] <= 2.5\\ngini = 0.375\\nsamples = 4\\nvalue = [1, 3]'),\n",
       " Text(349.2992125984252, 249.14999999999998, 'gini = 0.0\\nsamples = 3\\nvalue = [0, 3]'),\n",
       " Text(375.6614173228346, 249.14999999999998, 'gini = 0.0\\nsamples = 1\\nvalue = [1, 0]'),\n",
       " Text(510.76771653543307, 385.05, 'X[0] <= 121.5\\ngini = 0.472\\nsamples = 81\\nvalue = [31, 50]'),\n",
       " Text(441.56692913385825, 339.75, 'X[5] <= 35.0\\ngini = 0.264\\nsamples = 32\\nvalue = [5, 27]'),\n",
       " Text(415.20472440944883, 294.45, 'X[3] <= 382.5\\ngini = 0.49\\nsamples = 7\\nvalue = [4, 3]'),\n",
       " Text(402.0236220472441, 249.14999999999998, 'X[4] <= 102.0\\ngini = 0.375\\nsamples = 4\\nvalue = [1, 3]'),\n",
       " Text(388.84251968503935, 203.84999999999997, 'gini = 0.0\\nsamples = 1\\nvalue = [1, 0]'),\n",
       " Text(415.20472440944883, 203.84999999999997, 'gini = 0.0\\nsamples = 3\\nvalue = [0, 3]'),\n",
       " Text(428.3858267716535, 249.14999999999998, 'gini = 0.0\\nsamples = 3\\nvalue = [3, 0]'),\n",
       " Text(467.92913385826773, 294.45, 'X[4] <= 101.5\\ngini = 0.077\\nsamples = 25\\nvalue = [1, 24]'),\n",
       " Text(454.748031496063, 249.14999999999998, 'X[3] <= 284.0\\ngini = 0.444\\nsamples = 3\\nvalue = [1, 2]'),\n",
       " Text(441.56692913385825, 203.84999999999997, 'gini = 0.0\\nsamples = 1\\nvalue = [1, 0]'),\n",
       " Text(467.92913385826773, 203.84999999999997, 'gini = 0.0\\nsamples = 2\\nvalue = [0, 2]'),\n",
       " Text(481.1102362204724, 249.14999999999998, 'gini = 0.0\\nsamples = 22\\nvalue = [0, 22]'),\n",
       " Text(579.9685039370079, 339.75, 'X[4] <= 124.0\\ngini = 0.498\\nsamples = 49\\nvalue = [26, 23]'),\n",
       " Text(533.8346456692914, 294.45, 'X[8] <= 0.5\\ngini = 0.269\\nsamples = 25\\nvalue = [21, 4]'),\n",
       " Text(507.4724409448819, 249.14999999999998, 'X[2] <= 10.5\\ngini = 0.5\\nsamples = 6\\nvalue = [3, 3]'),\n",
       " Text(494.29133858267716, 203.84999999999997, 'gini = 0.0\\nsamples = 2\\nvalue = [0, 2]'),\n",
       " Text(520.6535433070866, 203.84999999999997, 'X[2] <= 20.5\\ngini = 0.375\\nsamples = 4\\nvalue = [3, 1]'),\n",
       " Text(507.4724409448819, 158.55, 'gini = 0.0\\nsamples = 3\\nvalue = [3, 0]'),\n",
       " Text(533.8346456692914, 158.55, 'gini = 0.0\\nsamples = 1\\nvalue = [0, 1]'),\n",
       " Text(560.1968503937007, 249.14999999999998, 'X[6] <= 15.5\\ngini = 0.1\\nsamples = 19\\nvalue = [18, 1]'),\n",
       " Text(547.0157480314961, 203.84999999999997, 'gini = 0.0\\nsamples = 15\\nvalue = [15, 0]'),\n",
       " Text(573.3779527559055, 203.84999999999997, 'X[2] <= 12.0\\ngini = 0.375\\nsamples = 4\\nvalue = [3, 1]'),\n",
       " Text(560.1968503937007, 158.55, 'gini = 0.0\\nsamples = 1\\nvalue = [0, 1]'),\n",
       " Text(586.5590551181102, 158.55, 'gini = 0.0\\nsamples = 3\\nvalue = [3, 0]'),\n",
       " Text(626.1023622047244, 294.45, 'X[0] <= 149.5\\ngini = 0.33\\nsamples = 24\\nvalue = [5, 19]'),\n",
       " Text(612.9212598425197, 249.14999999999998, 'X[2] <= 15.5\\ngini = 0.172\\nsamples = 21\\nvalue = [2, 19]'),\n",
       " Text(599.7401574803149, 203.84999999999997, 'gini = 0.0\\nsamples = 16\\nvalue = [0, 16]'),\n",
       " Text(626.1023622047244, 203.84999999999997, 'X[5] <= 54.5\\ngini = 0.48\\nsamples = 5\\nvalue = [2, 3]'),\n",
       " Text(612.9212598425197, 158.55, 'X[4] <= 135.0\\ngini = 0.444\\nsamples = 3\\nvalue = [2, 1]'),\n",
       " Text(599.7401574803149, 113.25, 'gini = 0.0\\nsamples = 2\\nvalue = [2, 0]'),\n",
       " Text(626.1023622047244, 113.25, 'gini = 0.0\\nsamples = 1\\nvalue = [0, 1]'),\n",
       " Text(639.2834645669291, 158.55, 'gini = 0.0\\nsamples = 2\\nvalue = [0, 2]'),\n",
       " Text(639.2834645669291, 249.14999999999998, 'gini = 0.0\\nsamples = 3\\nvalue = [3, 0]'),\n",
       " Text(757.9133858267717, 475.65000000000003, 'X[4] <= 132.5\\ngini = 0.364\\nsamples = 67\\nvalue = [51, 16]'),\n",
       " Text(718.3700787401575, 430.35, 'X[6] <= 14.5\\ngini = 0.208\\nsamples = 51\\nvalue = [45, 6]'),\n",
       " Text(705.1889763779527, 385.05, 'X[6] <= 12.5\\ngini = 0.355\\nsamples = 26\\nvalue = [20, 6]'),\n",
       " Text(665.6456692913385, 339.75, 'X[1] <= 96.5\\ngini = 0.111\\nsamples = 17\\nvalue = [16, 1]'),\n",
       " Text(652.4645669291339, 294.45, 'gini = 0.0\\nsamples = 15\\nvalue = [15, 0]'),\n",
       " Text(678.8267716535433, 294.45, 'X[1] <= 107.0\\ngini = 0.5\\nsamples = 2\\nvalue = [1, 1]'),\n",
       " Text(665.6456692913385, 249.14999999999998, 'gini = 0.0\\nsamples = 1\\nvalue = [0, 1]'),\n",
       " Text(692.007874015748, 249.14999999999998, 'gini = 0.0\\nsamples = 1\\nvalue = [1, 0]'),\n",
       " Text(744.7322834645669, 339.75, 'X[1] <= 86.0\\ngini = 0.494\\nsamples = 9\\nvalue = [4, 5]'),\n",
       " Text(731.5511811023622, 294.45, 'X[1] <= 26.5\\ngini = 0.278\\nsamples = 6\\nvalue = [1, 5]'),\n",
       " Text(718.3700787401575, 249.14999999999998, 'gini = 0.0\\nsamples = 1\\nvalue = [1, 0]'),\n",
       " Text(744.7322834645669, 249.14999999999998, 'gini = 0.0\\nsamples = 5\\nvalue = [0, 5]'),\n",
       " Text(757.9133858267717, 294.45, 'gini = 0.0\\nsamples = 3\\nvalue = [3, 0]'),\n",
       " Text(731.5511811023622, 385.05, 'gini = 0.0\\nsamples = 25\\nvalue = [25, 0]'),\n",
       " Text(797.4566929133858, 430.35, 'X[1] <= 46.0\\ngini = 0.469\\nsamples = 16\\nvalue = [6, 10]'),\n",
       " Text(784.275590551181, 385.05, 'gini = 0.0\\nsamples = 6\\nvalue = [0, 6]'),\n",
       " Text(810.6377952755905, 385.05, 'X[1] <= 107.0\\ngini = 0.48\\nsamples = 10\\nvalue = [6, 4]'),\n",
       " Text(797.4566929133858, 339.75, 'X[6] <= 13.0\\ngini = 0.375\\nsamples = 8\\nvalue = [6, 2]'),\n",
       " Text(784.275590551181, 294.45, 'X[10] <= 0.5\\ngini = 0.444\\nsamples = 3\\nvalue = [1, 2]'),\n",
       " Text(771.0944881889764, 249.14999999999998, 'gini = 0.0\\nsamples = 2\\nvalue = [0, 2]'),\n",
       " Text(797.4566929133858, 249.14999999999998, 'gini = 0.0\\nsamples = 1\\nvalue = [1, 0]'),\n",
       " Text(810.6377952755905, 294.45, 'gini = 0.0\\nsamples = 5\\nvalue = [5, 0]'),\n",
       " Text(823.8188976377952, 339.75, 'gini = 0.0\\nsamples = 2\\nvalue = [0, 2]')]"
      ]
     },
     "execution_count": 131,
     "metadata": {},
     "output_type": "execute_result"
    },
    {
     "data": {
      "image/png": "[encoded data removed]",
      "text/plain": [
       "<Figure size 1080x720 with 1 Axes>"
      ]
     },
     "metadata": {
      "needs_background": "light"
     },
     "output_type": "display_data"
    }
   ],
   "source": [
    "plt.figure(figsize=(15,10))\n",
    "tree.plot_tree(model1, filled=True)"
   ]
  },
  {
   "cell_type": "code",
   "execution_count": 132,
   "metadata": {},
   "outputs": [],
   "source": [
    "# Accuracy of the model"
   ]
  },
  {
   "cell_type": "code",
   "execution_count": 133,
   "metadata": {},
   "outputs": [
    {
     "data": {
      "text/plain": [
       "0.725"
      ]
     },
     "execution_count": 133,
     "metadata": {},
     "output_type": "execute_result"
    }
   ],
   "source": [
    "Accuracy_gini = accuracy_score(y_pred1,y_test)\n",
    "Accuracy_gini"
   ]
  },
  {
   "cell_type": "code",
   "execution_count": 134,
   "metadata": {},
   "outputs": [],
   "source": [
    "# Checking the accuracy of the model with different max_depth values from 3 to 10 "
   ]
  },
  {
   "cell_type": "code",
   "execution_count": 135,
   "metadata": {},
   "outputs": [],
   "source": [
    "# List of values to try for max_depth:\n",
    "max_depth_range = list(range(3, 10))                   # List to store the average RMSE for each value of max_depth:\n",
    "accuracy = []\n",
    "for depth in max_depth_range:\n",
    "    clf = DecisionTreeClassifier(max_depth = depth, \n",
    "                             random_state = 0)\n",
    "    clf.fit(x_train, y_train)    \n",
    "    score = clf.score(x_test, y_test)\n",
    "    accuracy.append(score)"
   ]
  },
  {
   "cell_type": "code",
   "execution_count": 136,
   "metadata": {},
   "outputs": [
    {
     "data": {
      "text/plain": [
       "[0.675, 0.6625, 0.7125, 0.6875, 0.725, 0.725, 0.75]"
      ]
     },
     "execution_count": 136,
     "metadata": {},
     "output_type": "execute_result"
    }
   ],
   "source": [
    "accuracy"
   ]
  },
  {
   "cell_type": "code",
   "execution_count": 137,
   "metadata": {},
   "outputs": [],
   "source": [
    "# The maximum accuracy can be obtained with max_depth as 7"
   ]
  },
  {
   "cell_type": "code",
   "execution_count": 138,
   "metadata": {},
   "outputs": [],
   "source": [
    "# Changing the max_depth to 7 and building the model"
   ]
  },
  {
   "cell_type": "code",
   "execution_count": 139,
   "metadata": {},
   "outputs": [],
   "source": [
    "model2 = DecisionTreeClassifier(criterion=\"gini\", max_depth=7)"
   ]
  },
  {
   "cell_type": "code",
   "execution_count": 140,
   "metadata": {},
   "outputs": [
    {
     "data": {
      "text/plain": [
       "DecisionTreeClassifier(max_depth=7)"
      ]
     },
     "execution_count": 140,
     "metadata": {},
     "output_type": "execute_result"
    }
   ],
   "source": [
    "model2.fit(x_train,y_train)"
   ]
  },
  {
   "cell_type": "code",
   "execution_count": 141,
   "metadata": {},
   "outputs": [],
   "source": [
    "# Predicting the target value using the model"
   ]
  },
  {
   "cell_type": "code",
   "execution_count": 142,
   "metadata": {
    "scrolled": true
   },
   "outputs": [
    {
     "data": {
      "text/plain": [
       "array(['High', 'High', 'Low', 'High', 'High', 'High', 'High', 'High',\n",
       "       'High', 'Low', 'High', 'High', 'Low', 'Low', 'Low', 'Low', 'High',\n",
       "       'High', 'Low', 'Low', 'Low', 'High', 'Low', 'High', 'Low', 'Low',\n",
       "       'High', 'High', 'Low', 'Low', 'Low', 'Low', 'Low', 'Low', 'Low',\n",
       "       'Low', 'Low', 'High', 'Low', 'Low', 'High', 'Low', 'Low', 'Low',\n",
       "       'Low', 'Low', 'High', 'Low', 'Low', 'High', 'Low', 'Low', 'High',\n",
       "       'High', 'High', 'Low', 'Low', 'High', 'High', 'Low', 'Low', 'High',\n",
       "       'High', 'Low', 'Low', 'Low', 'Low', 'Low', 'Low', 'High', 'Low',\n",
       "       'Low', 'Low', 'Low', 'High', 'Low', 'High', 'High', 'Low', 'High'],\n",
       "      dtype=object)"
      ]
     },
     "execution_count": 142,
     "metadata": {},
     "output_type": "execute_result"
    }
   ],
   "source": [
    "y_pred2= model2.predict(x_test)\n",
    "y_pred2"
   ]
  },
  {
   "cell_type": "code",
   "execution_count": 143,
   "metadata": {},
   "outputs": [],
   "source": [
    "# Confusion matrix"
   ]
  },
  {
   "cell_type": "code",
   "execution_count": 144,
   "metadata": {
    "scrolled": true
   },
   "outputs": [
    {
     "data": {
      "text/plain": [
       "array([[26,  6],\n",
       "       [12, 36]], dtype=int64)"
      ]
     },
     "execution_count": 144,
     "metadata": {},
     "output_type": "execute_result"
    }
   ],
   "source": [
    "confusion_matrix(y_pred2,y_test)"
   ]
  },
  {
   "cell_type": "code",
   "execution_count": 145,
   "metadata": {},
   "outputs": [],
   "source": [
    "# Visualizing the Decision tree"
   ]
  },
  {
   "cell_type": "code",
   "execution_count": 146,
   "metadata": {},
   "outputs": [
    {
     "data": {
      "text/plain": [
       "[Text(498.234375, 509.625, 'X[7] <= 0.5\\ngini = 0.478\\nsamples = 319\\nvalue = [126, 193]'),\n",
       " Text(240.46875, 441.675, 'X[4] <= 92.5\\ngini = 0.418\\nsamples = 252\\nvalue = [75, 177]'),\n",
       " Text(101.25, 373.725, 'X[1] <= 83.5\\ngini = 0.418\\nsamples = 37\\nvalue = [26, 11]'),\n",
       " Text(54.0, 305.775, 'X[8] <= 0.5\\ngini = 0.499\\nsamples = 19\\nvalue = [9, 10]'),\n",
       " Text(27.0, 237.825, 'X[4] <= 71.0\\ngini = 0.219\\nsamples = 8\\nvalue = [1, 7]'),\n",
       " Text(13.5, 169.875, 'gini = 0.0\\nsamples = 1\\nvalue = [1, 0]'),\n",
       " Text(40.5, 169.875, 'gini = 0.0\\nsamples = 7\\nvalue = [0, 7]'),\n",
       " Text(81.0, 237.825, 'X[1] <= 70.0\\ngini = 0.397\\nsamples = 11\\nvalue = [8, 3]'),\n",
       " Text(67.5, 169.875, 'gini = 0.0\\nsamples = 6\\nvalue = [6, 0]'),\n",
       " Text(94.5, 169.875, 'X[3] <= 177.5\\ngini = 0.48\\nsamples = 5\\nvalue = [2, 3]'),\n",
       " Text(81.0, 101.92500000000001, 'gini = 0.0\\nsamples = 3\\nvalue = [0, 3]'),\n",
       " Text(108.0, 101.92500000000001, 'gini = 0.0\\nsamples = 2\\nvalue = [2, 0]'),\n",
       " Text(148.5, 305.775, 'X[0] <= 93.5\\ngini = 0.105\\nsamples = 18\\nvalue = [17, 1]'),\n",
       " Text(135.0, 237.825, 'X[3] <= 484.5\\ngini = 0.444\\nsamples = 3\\nvalue = [2, 1]'),\n",
       " Text(121.5, 169.875, 'gini = 0.0\\nsamples = 2\\nvalue = [2, 0]'),\n",
       " Text(148.5, 169.875, 'gini = 0.0\\nsamples = 1\\nvalue = [0, 1]'),\n",
       " Text(162.0, 237.825, 'gini = 0.0\\nsamples = 15\\nvalue = [15, 0]'),\n",
       " Text(379.6875, 373.725, 'X[2] <= 7.5\\ngini = 0.352\\nsamples = 215\\nvalue = [49, 166]'),\n",
       " Text(256.5, 305.775, 'X[5] <= 49.5\\ngini = 0.233\\nsamples = 134\\nvalue = [18, 116]'),\n",
       " Text(189.0, 237.825, 'X[8] <= 0.5\\ngini = 0.383\\nsamples = 58\\nvalue = [15, 43]'),\n",
       " Text(175.5, 169.875, 'gini = 0.0\\nsamples = 20\\nvalue = [0, 20]'),\n",
       " Text(202.5, 169.875, 'X[0] <= 129.5\\ngini = 0.478\\nsamples = 38\\nvalue = [15, 23]'),\n",
       " Text(175.5, 101.92500000000001, 'X[5] <= 47.0\\ngini = 0.219\\nsamples = 16\\nvalue = [2, 14]'),\n",
       " Text(162.0, 33.97500000000002, 'gini = 0.124\\nsamples = 15\\nvalue = [1, 14]'),\n",
       " Text(189.0, 33.97500000000002, 'gini = 0.0\\nsamples = 1\\nvalue = [1, 0]'),\n",
       " Text(229.5, 101.92500000000001, 'X[4] <= 143.0\\ngini = 0.483\\nsamples = 22\\nvalue = [13, 9]'),\n",
       " Text(216.0, 33.97500000000002, 'gini = 0.36\\nsamples = 17\\nvalue = [13, 4]'),\n",
       " Text(243.0, 33.97500000000002, 'gini = 0.0\\nsamples = 5\\nvalue = [0, 5]'),\n",
       " Text(324.0, 237.825, 'X[0] <= 148.0\\ngini = 0.076\\nsamples = 76\\nvalue = [3, 73]'),\n",
       " Text(297.0, 169.875, 'X[4] <= 102.5\\ngini = 0.054\\nsamples = 72\\nvalue = [2, 70]'),\n",
       " Text(283.5, 101.92500000000001, 'X[0] <= 128.5\\ngini = 0.159\\nsamples = 23\\nvalue = [2, 21]'),\n",
       " Text(270.0, 33.97500000000002, 'gini = 0.091\\nsamples = 21\\nvalue = [1, 20]'),\n",
       " Text(297.0, 33.97500000000002, 'gini = 0.5\\nsamples = 2\\nvalue = [1, 1]'),\n",
       " Text(310.5, 101.92500000000001, 'gini = 0.0\\nsamples = 49\\nvalue = [0, 49]'),\n",
       " Text(351.0, 169.875, 'X[0] <= 151.5\\ngini = 0.375\\nsamples = 4\\nvalue = [1, 3]'),\n",
       " Text(337.5, 101.92500000000001, 'gini = 0.0\\nsamples = 1\\nvalue = [1, 0]'),\n",
       " Text(364.5, 101.92500000000001, 'gini = 0.0\\nsamples = 3\\nvalue = [0, 3]'),\n",
       " Text(502.875, 305.775, 'X[0] <= 121.5\\ngini = 0.472\\nsamples = 81\\nvalue = [31, 50]'),\n",
       " Text(432.0, 237.825, 'X[5] <= 35.0\\ngini = 0.264\\nsamples = 32\\nvalue = [5, 27]'),\n",
       " Text(405.0, 169.875, 'X[1] <= 72.5\\ngini = 0.49\\nsamples = 7\\nvalue = [4, 3]'),\n",
       " Text(391.5, 101.92500000000001, 'X[1] <= 35.5\\ngini = 0.375\\nsamples = 4\\nvalue = [1, 3]'),\n",
       " Text(378.0, 33.97500000000002, 'gini = 0.0\\nsamples = 1\\nvalue = [1, 0]'),\n",
       " Text(405.0, 33.97500000000002, 'gini = 0.0\\nsamples = 3\\nvalue = [0, 3]'),\n",
       " Text(418.5, 101.92500000000001, 'gini = 0.0\\nsamples = 3\\nvalue = [3, 0]'),\n",
       " Text(459.0, 169.875, 'X[4] <= 101.5\\ngini = 0.077\\nsamples = 25\\nvalue = [1, 24]'),\n",
       " Text(445.5, 101.92500000000001, 'X[4] <= 99.0\\ngini = 0.444\\nsamples = 3\\nvalue = [1, 2]'),\n",
       " Text(432.0, 33.97500000000002, 'gini = 0.0\\nsamples = 2\\nvalue = [0, 2]'),\n",
       " Text(459.0, 33.97500000000002, 'gini = 0.0\\nsamples = 1\\nvalue = [1, 0]'),\n",
       " Text(472.5, 101.92500000000001, 'gini = 0.0\\nsamples = 22\\nvalue = [0, 22]'),\n",
       " Text(573.75, 237.825, 'X[4] <= 124.0\\ngini = 0.498\\nsamples = 49\\nvalue = [26, 23]'),\n",
       " Text(526.5, 169.875, 'X[8] <= 0.5\\ngini = 0.269\\nsamples = 25\\nvalue = [21, 4]'),\n",
       " Text(499.5, 101.92500000000001, 'X[2] <= 10.5\\ngini = 0.5\\nsamples = 6\\nvalue = [3, 3]'),\n",
       " Text(486.0, 33.97500000000002, 'gini = 0.0\\nsamples = 2\\nvalue = [0, 2]'),\n",
       " Text(513.0, 33.97500000000002, 'gini = 0.375\\nsamples = 4\\nvalue = [3, 1]'),\n",
       " Text(553.5, 101.92500000000001, 'X[6] <= 15.5\\ngini = 0.1\\nsamples = 19\\nvalue = [18, 1]'),\n",
       " Text(540.0, 33.97500000000002, 'gini = 0.0\\nsamples = 15\\nvalue = [15, 0]'),\n",
       " Text(567.0, 33.97500000000002, 'gini = 0.375\\nsamples = 4\\nvalue = [3, 1]'),\n",
       " Text(621.0, 169.875, 'X[0] <= 149.5\\ngini = 0.33\\nsamples = 24\\nvalue = [5, 19]'),\n",
       " Text(607.5, 101.92500000000001, 'X[2] <= 15.5\\ngini = 0.172\\nsamples = 21\\nvalue = [2, 19]'),\n",
       " Text(594.0, 33.97500000000002, 'gini = 0.0\\nsamples = 16\\nvalue = [0, 16]'),\n",
       " Text(621.0, 33.97500000000002, 'gini = 0.48\\nsamples = 5\\nvalue = [2, 3]'),\n",
       " Text(634.5, 101.92500000000001, 'gini = 0.0\\nsamples = 3\\nvalue = [3, 0]'),\n",
       " Text(756.0, 441.675, 'X[4] <= 132.5\\ngini = 0.364\\nsamples = 67\\nvalue = [51, 16]'),\n",
       " Text(715.5, 373.725, 'X[6] <= 14.5\\ngini = 0.208\\nsamples = 51\\nvalue = [45, 6]'),\n",
       " Text(702.0, 305.775, 'X[6] <= 12.5\\ngini = 0.355\\nsamples = 26\\nvalue = [20, 6]'),\n",
       " Text(661.5, 237.825, 'X[1] <= 96.5\\ngini = 0.111\\nsamples = 17\\nvalue = [16, 1]'),\n",
       " Text(648.0, 169.875, 'gini = 0.0\\nsamples = 15\\nvalue = [15, 0]'),\n",
       " Text(675.0, 169.875, 'X[5] <= 56.0\\ngini = 0.5\\nsamples = 2\\nvalue = [1, 1]'),\n",
       " Text(661.5, 101.92500000000001, 'gini = 0.0\\nsamples = 1\\nvalue = [1, 0]'),\n",
       " Text(688.5, 101.92500000000001, 'gini = 0.0\\nsamples = 1\\nvalue = [0, 1]'),\n",
       " Text(742.5, 237.825, 'X[1] <= 86.0\\ngini = 0.494\\nsamples = 9\\nvalue = [4, 5]'),\n",
       " Text(729.0, 169.875, 'X[1] <= 26.5\\ngini = 0.278\\nsamples = 6\\nvalue = [1, 5]'),\n",
       " Text(715.5, 101.92500000000001, 'gini = 0.0\\nsamples = 1\\nvalue = [1, 0]'),\n",
       " Text(742.5, 101.92500000000001, 'gini = 0.0\\nsamples = 5\\nvalue = [0, 5]'),\n",
       " Text(756.0, 169.875, 'gini = 0.0\\nsamples = 3\\nvalue = [3, 0]'),\n",
       " Text(729.0, 305.775, 'gini = 0.0\\nsamples = 25\\nvalue = [25, 0]'),\n",
       " Text(796.5, 373.725, 'X[1] <= 46.0\\ngini = 0.469\\nsamples = 16\\nvalue = [6, 10]'),\n",
       " Text(783.0, 305.775, 'gini = 0.0\\nsamples = 6\\nvalue = [0, 6]'),\n",
       " Text(810.0, 305.775, 'X[1] <= 107.0\\ngini = 0.48\\nsamples = 10\\nvalue = [6, 4]'),\n",
       " Text(796.5, 237.825, 'X[10] <= 0.5\\ngini = 0.375\\nsamples = 8\\nvalue = [6, 2]'),\n",
       " Text(783.0, 169.875, 'X[6] <= 14.5\\ngini = 0.444\\nsamples = 3\\nvalue = [1, 2]'),\n",
       " Text(769.5, 101.92500000000001, 'gini = 0.0\\nsamples = 2\\nvalue = [0, 2]'),\n",
       " Text(796.5, 101.92500000000001, 'gini = 0.0\\nsamples = 1\\nvalue = [1, 0]'),\n",
       " Text(810.0, 169.875, 'gini = 0.0\\nsamples = 5\\nvalue = [5, 0]'),\n",
       " Text(823.5, 237.825, 'gini = 0.0\\nsamples = 2\\nvalue = [0, 2]')]"
      ]
     },
     "execution_count": 146,
     "metadata": {},
     "output_type": "execute_result"
    },
    {
     "data": {
      "image/png": "[encoded data removed]",
      "text/plain": [
       "<Figure size 1080x720 with 1 Axes>"
      ]
     },
     "metadata": {
      "needs_background": "light"
     },
     "output_type": "display_data"
    }
   ],
   "source": [
    "plt.figure(figsize=(15,10))\n",
    "tree.plot_tree(model2, filled=True)"
   ]
  },
  {
   "cell_type": "code",
   "execution_count": 147,
   "metadata": {},
   "outputs": [],
   "source": [
    "# Accuracy "
   ]
  },
  {
   "cell_type": "code",
   "execution_count": 148,
   "metadata": {},
   "outputs": [
    {
     "data": {
      "text/plain": [
       "0.775"
      ]
     },
     "execution_count": 148,
     "metadata": {},
     "output_type": "execute_result"
    }
   ],
   "source": [
    "Accuracy_depth =accuracy_score(y_pred2,y_test)\n",
    "Accuracy_depth"
   ]
  },
  {
   "cell_type": "code",
   "execution_count": 149,
   "metadata": {},
   "outputs": [],
   "source": [
    "# Improving the accuracy of the model using \"bagging\" and \"boosting\" techniques"
   ]
  },
  {
   "cell_type": "code",
   "execution_count": 150,
   "metadata": {},
   "outputs": [],
   "source": [
    "from sklearn.ensemble import BaggingClassifier\n",
    "from sklearn.ensemble import AdaBoostClassifier"
   ]
  },
  {
   "cell_type": "markdown",
   "metadata": {},
   "source": [
    "## Bagging"
   ]
  },
  {
   "cell_type": "code",
   "execution_count": 151,
   "metadata": {},
   "outputs": [],
   "source": [
    "bg = BaggingClassifier(DecisionTreeClassifier(),max_samples=0.5,max_features=1.0, n_estimators=20)"
   ]
  },
  {
   "cell_type": "code",
   "execution_count": 152,
   "metadata": {},
   "outputs": [
    {
     "data": {
      "text/plain": [
       "BaggingClassifier(base_estimator=DecisionTreeClassifier(), max_samples=0.5,\n",
       "                  n_estimators=20)"
      ]
     },
     "execution_count": 152,
     "metadata": {},
     "output_type": "execute_result"
    }
   ],
   "source": [
    "bg.fit(x_train, y_train)"
   ]
  },
  {
   "cell_type": "code",
   "execution_count": 153,
   "metadata": {},
   "outputs": [
    {
     "data": {
      "text/plain": [
       "0.825"
      ]
     },
     "execution_count": 153,
     "metadata": {},
     "output_type": "execute_result"
    }
   ],
   "source": [
    "Accuracy_bag =bg.score(x_test, y_test)\n",
    "Accuracy_bag"
   ]
  },
  {
   "cell_type": "code",
   "execution_count": 154,
   "metadata": {},
   "outputs": [],
   "source": [
    "# Bagging technique has increased the accuracy of the model to 83.75% from 77.5%"
   ]
  },
  {
   "cell_type": "markdown",
   "metadata": {},
   "source": [
    "## Boosting"
   ]
  },
  {
   "cell_type": "code",
   "execution_count": 155,
   "metadata": {},
   "outputs": [],
   "source": [
    "ada = AdaBoostClassifier(DecisionTreeClassifier(),n_estimators=20,learning_rate=1)"
   ]
  },
  {
   "cell_type": "code",
   "execution_count": 156,
   "metadata": {},
   "outputs": [
    {
     "data": {
      "text/plain": [
       "AdaBoostClassifier(base_estimator=DecisionTreeClassifier(), learning_rate=1,\n",
       "                   n_estimators=20)"
      ]
     },
     "execution_count": 156,
     "metadata": {},
     "output_type": "execute_result"
    }
   ],
   "source": [
    "ada.fit(x_train,y_train)"
   ]
  },
  {
   "cell_type": "code",
   "execution_count": 157,
   "metadata": {},
   "outputs": [
    {
     "data": {
      "text/plain": [
       "0.725"
      ]
     },
     "execution_count": 157,
     "metadata": {},
     "output_type": "execute_result"
    }
   ],
   "source": [
    "Accuracy_boost =ada.score(x_test, y_test)\n",
    "Accuracy_boost"
   ]
  },
  {
   "cell_type": "code",
   "execution_count": 158,
   "metadata": {},
   "outputs": [],
   "source": [
    "# Boosting technique hasn't increased the accuracy of the model much"
   ]
  },
  {
   "cell_type": "code",
   "execution_count": 159,
   "metadata": {},
   "outputs": [],
   "source": [
    "# Tabulating all the results"
   ]
  },
  {
   "cell_type": "code",
   "execution_count": 160,
   "metadata": {},
   "outputs": [],
   "source": [
    "accuracies = {\"Method\":pd.Series([\"Decisiontree_entropy\",\"Decisiontree_gini\",\"Decisiontree_depth\",\"Bagging\",\"Boosting\"]),\"Accuracy_values\":(Accuracy_entropy,Accuracy_gini,Accuracy_depth,Accuracy_bag,Accuracy_boost)}"
   ]
  },
  {
   "cell_type": "code",
   "execution_count": 161,
   "metadata": {},
   "outputs": [
    {
     "data": {
      "text/html": [
       "<div>\n",
       "<style scoped>\n",
       "    .dataframe tbody tr th:only-of-type {\n",
       "        vertical-align: middle;\n",
       "    }\n",
       "\n",
       "    .dataframe tbody tr th {\n",
       "        vertical-align: top;\n",
       "    }\n",
       "\n",
       "    .dataframe thead th {\n",
       "        text-align: right;\n",
       "    }\n",
       "</style>\n",
       "<table border=\"1\" class=\"dataframe\">\n",
       "  <thead>\n",
       "    <tr style=\"text-align: right;\">\n",
       "      <th></th>\n",
       "      <th>Method</th>\n",
       "      <th>Accuracy_values</th>\n",
       "    </tr>\n",
       "  </thead>\n",
       "  <tbody>\n",
       "    <tr>\n",
       "      <td>0</td>\n",
       "      <td>Decisiontree_entropy</td>\n",
       "      <td>0.7125</td>\n",
       "    </tr>\n",
       "    <tr>\n",
       "      <td>1</td>\n",
       "      <td>Decisiontree_gini</td>\n",
       "      <td>0.7250</td>\n",
       "    </tr>\n",
       "    <tr>\n",
       "      <td>2</td>\n",
       "      <td>Decisiontree_depth</td>\n",
       "      <td>0.7750</td>\n",
       "    </tr>\n",
       "    <tr>\n",
       "      <td>3</td>\n",
       "      <td>Bagging</td>\n",
       "      <td>0.8250</td>\n",
       "    </tr>\n",
       "    <tr>\n",
       "      <td>4</td>\n",
       "      <td>Boosting</td>\n",
       "      <td>0.7250</td>\n",
       "    </tr>\n",
       "  </tbody>\n",
       "</table>\n",
       "</div>"
      ],
      "text/plain": [
       "                 Method  Accuracy_values\n",
       "0  Decisiontree_entropy           0.7125\n",
       "1     Decisiontree_gini           0.7250\n",
       "2    Decisiontree_depth           0.7750\n",
       "3               Bagging           0.8250\n",
       "4              Boosting           0.7250"
      ]
     },
     "execution_count": 161,
     "metadata": {},
     "output_type": "execute_result"
    }
   ],
   "source": [
    "table_accuracies = pd.DataFrame(accuracies)\n",
    "table_accuracies"
   ]
  },
  {
   "cell_type": "markdown",
   "metadata": {},
   "source": [
    "## Observations"
   ]
  },
  {
   "cell_type": "code",
   "execution_count": 162,
   "metadata": {},
   "outputs": [],
   "source": [
    "# The DecisionTree model with \"gini\" criterion and with max_depth of 7 has given the high accuracy of 77.5 % \n",
    "# Bagging(Bootstrapping) technique has increased the accuracy of the model to 82.5 % which is the highest of all"
   ]
  }
 ],
 "metadata": {
  "kernelspec": {
   "display_name": "Python 3",
   "language": "python",
   "name": "python3"
  },
  "language_info": {
   "codemirror_mode": {
    "name": "ipython",
    "version": 3
   },
   "file_extension": ".py",
   "mimetype": "text/x-python",
   "name": "python",
   "nbconvert_exporter": "python",
   "pygments_lexer": "ipython3",
   "version": "3.7.4"
  }
 },
 "nbformat": 4,
 "nbformat_minor": 2
}

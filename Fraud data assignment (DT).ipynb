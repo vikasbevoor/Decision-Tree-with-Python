{
 "cells": [
  {
   "cell_type": "code",
   "execution_count": 1,
   "metadata": {},
   "outputs": [],
   "source": [
    "# Importing the necessary librararies"
   ]
  },
  {
   "cell_type": "code",
   "execution_count": 2,
   "metadata": {},
   "outputs": [],
   "source": [
    "import numpy as np\n",
    "import pandas as pd\n",
    "import matplotlib.pyplot as plt\n",
    "from sklearn.model_selection import train_test_split\n",
    "from sklearn.metrics import confusion_matrix\n",
    "from sklearn.metrics import accuracy_score"
   ]
  },
  {
   "cell_type": "code",
   "execution_count": 3,
   "metadata": {},
   "outputs": [],
   "source": [
    "# Import the dataset"
   ]
  },
  {
   "cell_type": "code",
   "execution_count": 4,
   "metadata": {},
   "outputs": [
    {
     "data": {
      "text/html": [
       "<div>\n",
       "<style scoped>\n",
       "    .dataframe tbody tr th:only-of-type {\n",
       "        vertical-align: middle;\n",
       "    }\n",
       "\n",
       "    .dataframe tbody tr th {\n",
       "        vertical-align: top;\n",
       "    }\n",
       "\n",
       "    .dataframe thead th {\n",
       "        text-align: right;\n",
       "    }\n",
       "</style>\n",
       "<table border=\"1\" class=\"dataframe\">\n",
       "  <thead>\n",
       "    <tr style=\"text-align: right;\">\n",
       "      <th></th>\n",
       "      <th>Undergrad</th>\n",
       "      <th>Marital.Status</th>\n",
       "      <th>Taxable.Income</th>\n",
       "      <th>City.Population</th>\n",
       "      <th>Work.Experience</th>\n",
       "      <th>Urban</th>\n",
       "    </tr>\n",
       "  </thead>\n",
       "  <tbody>\n",
       "    <tr>\n",
       "      <td>0</td>\n",
       "      <td>NO</td>\n",
       "      <td>Single</td>\n",
       "      <td>68833</td>\n",
       "      <td>50047</td>\n",
       "      <td>10</td>\n",
       "      <td>YES</td>\n",
       "    </tr>\n",
       "    <tr>\n",
       "      <td>1</td>\n",
       "      <td>YES</td>\n",
       "      <td>Divorced</td>\n",
       "      <td>33700</td>\n",
       "      <td>134075</td>\n",
       "      <td>18</td>\n",
       "      <td>YES</td>\n",
       "    </tr>\n",
       "    <tr>\n",
       "      <td>2</td>\n",
       "      <td>NO</td>\n",
       "      <td>Married</td>\n",
       "      <td>36925</td>\n",
       "      <td>160205</td>\n",
       "      <td>30</td>\n",
       "      <td>YES</td>\n",
       "    </tr>\n",
       "    <tr>\n",
       "      <td>3</td>\n",
       "      <td>YES</td>\n",
       "      <td>Single</td>\n",
       "      <td>50190</td>\n",
       "      <td>193264</td>\n",
       "      <td>15</td>\n",
       "      <td>YES</td>\n",
       "    </tr>\n",
       "    <tr>\n",
       "      <td>4</td>\n",
       "      <td>NO</td>\n",
       "      <td>Married</td>\n",
       "      <td>81002</td>\n",
       "      <td>27533</td>\n",
       "      <td>28</td>\n",
       "      <td>NO</td>\n",
       "    </tr>\n",
       "  </tbody>\n",
       "</table>\n",
       "</div>"
      ],
      "text/plain": [
       "  Undergrad Marital.Status  Taxable.Income  City.Population  Work.Experience  \\\n",
       "0        NO         Single           68833            50047               10   \n",
       "1       YES       Divorced           33700           134075               18   \n",
       "2        NO        Married           36925           160205               30   \n",
       "3       YES         Single           50190           193264               15   \n",
       "4        NO        Married           81002            27533               28   \n",
       "\n",
       "  Urban  \n",
       "0   YES  \n",
       "1   YES  \n",
       "2   YES  \n",
       "3   YES  \n",
       "4    NO  "
      ]
     },
     "execution_count": 4,
     "metadata": {},
     "output_type": "execute_result"
    }
   ],
   "source": [
    "data = pd.read_csv(\"D:\\Data science\\Assignments docs\\Decision tree\\Fraud_check.csv\")\n",
    "data.head()"
   ]
  },
  {
   "cell_type": "code",
   "execution_count": 5,
   "metadata": {},
   "outputs": [
    {
     "data": {
      "text/plain": [
       "(600, 6)"
      ]
     },
     "execution_count": 5,
     "metadata": {},
     "output_type": "execute_result"
    }
   ],
   "source": [
    "data.shape"
   ]
  },
  {
   "cell_type": "code",
   "execution_count": 6,
   "metadata": {},
   "outputs": [
    {
     "data": {
      "text/html": [
       "<div>\n",
       "<style scoped>\n",
       "    .dataframe tbody tr th:only-of-type {\n",
       "        vertical-align: middle;\n",
       "    }\n",
       "\n",
       "    .dataframe tbody tr th {\n",
       "        vertical-align: top;\n",
       "    }\n",
       "\n",
       "    .dataframe thead th {\n",
       "        text-align: right;\n",
       "    }\n",
       "</style>\n",
       "<table border=\"1\" class=\"dataframe\">\n",
       "  <thead>\n",
       "    <tr style=\"text-align: right;\">\n",
       "      <th></th>\n",
       "      <th>Taxable.Income</th>\n",
       "      <th>City.Population</th>\n",
       "      <th>Work.Experience</th>\n",
       "    </tr>\n",
       "  </thead>\n",
       "  <tbody>\n",
       "    <tr>\n",
       "      <td>count</td>\n",
       "      <td>600.000000</td>\n",
       "      <td>600.000000</td>\n",
       "      <td>600.000000</td>\n",
       "    </tr>\n",
       "    <tr>\n",
       "      <td>mean</td>\n",
       "      <td>55208.375000</td>\n",
       "      <td>108747.368333</td>\n",
       "      <td>15.558333</td>\n",
       "    </tr>\n",
       "    <tr>\n",
       "      <td>std</td>\n",
       "      <td>26204.827597</td>\n",
       "      <td>49850.075134</td>\n",
       "      <td>8.842147</td>\n",
       "    </tr>\n",
       "    <tr>\n",
       "      <td>min</td>\n",
       "      <td>10003.000000</td>\n",
       "      <td>25779.000000</td>\n",
       "      <td>0.000000</td>\n",
       "    </tr>\n",
       "    <tr>\n",
       "      <td>25%</td>\n",
       "      <td>32871.500000</td>\n",
       "      <td>66966.750000</td>\n",
       "      <td>8.000000</td>\n",
       "    </tr>\n",
       "    <tr>\n",
       "      <td>50%</td>\n",
       "      <td>55074.500000</td>\n",
       "      <td>106493.500000</td>\n",
       "      <td>15.000000</td>\n",
       "    </tr>\n",
       "    <tr>\n",
       "      <td>75%</td>\n",
       "      <td>78611.750000</td>\n",
       "      <td>150114.250000</td>\n",
       "      <td>24.000000</td>\n",
       "    </tr>\n",
       "    <tr>\n",
       "      <td>max</td>\n",
       "      <td>99619.000000</td>\n",
       "      <td>199778.000000</td>\n",
       "      <td>30.000000</td>\n",
       "    </tr>\n",
       "  </tbody>\n",
       "</table>\n",
       "</div>"
      ],
      "text/plain": [
       "       Taxable.Income  City.Population  Work.Experience\n",
       "count      600.000000       600.000000       600.000000\n",
       "mean     55208.375000    108747.368333        15.558333\n",
       "std      26204.827597     49850.075134         8.842147\n",
       "min      10003.000000     25779.000000         0.000000\n",
       "25%      32871.500000     66966.750000         8.000000\n",
       "50%      55074.500000    106493.500000        15.000000\n",
       "75%      78611.750000    150114.250000        24.000000\n",
       "max      99619.000000    199778.000000        30.000000"
      ]
     },
     "execution_count": 6,
     "metadata": {},
     "output_type": "execute_result"
    }
   ],
   "source": [
    "data.describe()"
   ]
  },
  {
   "cell_type": "code",
   "execution_count": 7,
   "metadata": {},
   "outputs": [],
   "source": [
    "# Unique values in each column"
   ]
  },
  {
   "cell_type": "code",
   "execution_count": 8,
   "metadata": {},
   "outputs": [
    {
     "data": {
      "text/plain": [
       "Undergrad            2\n",
       "Marital.Status       3\n",
       "Taxable.Income     599\n",
       "City.Population    598\n",
       "Work.Experience     31\n",
       "Urban                2\n",
       "dtype: int64"
      ]
     },
     "execution_count": 8,
     "metadata": {},
     "output_type": "execute_result"
    }
   ],
   "source": [
    "data.nunique()"
   ]
  },
  {
   "cell_type": "code",
   "execution_count": 9,
   "metadata": {},
   "outputs": [],
   "source": [
    "# Converting the continuous values of \"Taxable.Income\" into categorial values of \"Risky\" and \"Good\""
   ]
  },
  {
   "cell_type": "code",
   "execution_count": 10,
   "metadata": {},
   "outputs": [],
   "source": [
    "frd = pd.cut(data[\"Taxable.Income\"], bins=[0,30000,100000],labels =[\"Risky\",\"Good\"])"
   ]
  },
  {
   "cell_type": "code",
   "execution_count": 11,
   "metadata": {},
   "outputs": [],
   "source": [
    "# Combining the converted values into the original dataset and removing earlier column"
   ]
  },
  {
   "cell_type": "code",
   "execution_count": 12,
   "metadata": {},
   "outputs": [
    {
     "data": {
      "text/html": [
       "<div>\n",
       "<style scoped>\n",
       "    .dataframe tbody tr th:only-of-type {\n",
       "        vertical-align: middle;\n",
       "    }\n",
       "\n",
       "    .dataframe tbody tr th {\n",
       "        vertical-align: top;\n",
       "    }\n",
       "\n",
       "    .dataframe thead th {\n",
       "        text-align: right;\n",
       "    }\n",
       "</style>\n",
       "<table border=\"1\" class=\"dataframe\">\n",
       "  <thead>\n",
       "    <tr style=\"text-align: right;\">\n",
       "      <th></th>\n",
       "      <th>Undergrad</th>\n",
       "      <th>Tax_income</th>\n",
       "      <th>Marital.Status</th>\n",
       "      <th>City.Population</th>\n",
       "      <th>Work.Experience</th>\n",
       "      <th>Urban</th>\n",
       "    </tr>\n",
       "  </thead>\n",
       "  <tbody>\n",
       "    <tr>\n",
       "      <td>0</td>\n",
       "      <td>NO</td>\n",
       "      <td>Good</td>\n",
       "      <td>Single</td>\n",
       "      <td>50047</td>\n",
       "      <td>10</td>\n",
       "      <td>YES</td>\n",
       "    </tr>\n",
       "    <tr>\n",
       "      <td>1</td>\n",
       "      <td>YES</td>\n",
       "      <td>Good</td>\n",
       "      <td>Divorced</td>\n",
       "      <td>134075</td>\n",
       "      <td>18</td>\n",
       "      <td>YES</td>\n",
       "    </tr>\n",
       "    <tr>\n",
       "      <td>2</td>\n",
       "      <td>NO</td>\n",
       "      <td>Good</td>\n",
       "      <td>Married</td>\n",
       "      <td>160205</td>\n",
       "      <td>30</td>\n",
       "      <td>YES</td>\n",
       "    </tr>\n",
       "    <tr>\n",
       "      <td>3</td>\n",
       "      <td>YES</td>\n",
       "      <td>Good</td>\n",
       "      <td>Single</td>\n",
       "      <td>193264</td>\n",
       "      <td>15</td>\n",
       "      <td>YES</td>\n",
       "    </tr>\n",
       "    <tr>\n",
       "      <td>4</td>\n",
       "      <td>NO</td>\n",
       "      <td>Good</td>\n",
       "      <td>Married</td>\n",
       "      <td>27533</td>\n",
       "      <td>28</td>\n",
       "      <td>NO</td>\n",
       "    </tr>\n",
       "  </tbody>\n",
       "</table>\n",
       "</div>"
      ],
      "text/plain": [
       "  Undergrad Tax_income Marital.Status  City.Population  Work.Experience Urban\n",
       "0        NO       Good         Single            50047               10   YES\n",
       "1       YES       Good       Divorced           134075               18   YES\n",
       "2        NO       Good        Married           160205               30   YES\n",
       "3       YES       Good         Single           193264               15   YES\n",
       "4        NO       Good        Married            27533               28    NO"
      ]
     },
     "execution_count": 12,
     "metadata": {},
     "output_type": "execute_result"
    }
   ],
   "source": [
    "data.insert(1,'Tax_income',frd)\n",
    "data= data.iloc[:,[0,1,2,4,5,6]]\n",
    "data.head()"
   ]
  },
  {
   "cell_type": "markdown",
   "metadata": {},
   "source": [
    "## Data exploration"
   ]
  },
  {
   "cell_type": "code",
   "execution_count": 13,
   "metadata": {},
   "outputs": [],
   "source": [
    "import seaborn as sns"
   ]
  },
  {
   "cell_type": "code",
   "execution_count": 14,
   "metadata": {},
   "outputs": [],
   "source": [
    "# Value counts"
   ]
  },
  {
   "cell_type": "code",
   "execution_count": 15,
   "metadata": {},
   "outputs": [
    {
     "data": {
      "text/plain": [
       "Good     476\n",
       "Risky    124\n",
       "Name: Tax_income, dtype: int64"
      ]
     },
     "execution_count": 15,
     "metadata": {},
     "output_type": "execute_result"
    }
   ],
   "source": [
    "data.Tax_income.value_counts()"
   ]
  },
  {
   "cell_type": "code",
   "execution_count": 16,
   "metadata": {
    "scrolled": true
   },
   "outputs": [
    {
     "data": {
      "text/plain": [
       "<matplotlib.axes._subplots.AxesSubplot at 0x23d6b116a48>"
      ]
     },
     "execution_count": 16,
     "metadata": {},
     "output_type": "execute_result"
    },
    {
     "data": {
      "image/png": "[encoded data removed]",
      "text/plain": [
       "<Figure size 432x288 with 1 Axes>"
      ]
     },
     "metadata": {
      "needs_background": "light"
     },
     "output_type": "display_data"
    }
   ],
   "source": [
    "sns.countplot(data[\"Tax_income\"], palette=\"hls\")"
   ]
  },
  {
   "cell_type": "code",
   "execution_count": 17,
   "metadata": {},
   "outputs": [],
   "source": [
    "# Counts for \"Good\" taxable income is very high compared to \"Risky\" counts"
   ]
  },
  {
   "cell_type": "code",
   "execution_count": 18,
   "metadata": {
    "scrolled": true
   },
   "outputs": [
    {
     "data": {
      "text/plain": [
       "<matplotlib.axes._subplots.AxesSubplot at 0x23d7121e0c8>"
      ]
     },
     "execution_count": 18,
     "metadata": {},
     "output_type": "execute_result"
    },
    {
     "data": {
      "image/png": "[encoded data removed]",
      "text/plain": [
       "<Figure size 432x288 with 1 Axes>"
      ]
     },
     "metadata": {
      "needs_background": "light"
     },
     "output_type": "display_data"
    }
   ],
   "source": [
    "sns.countplot(data[\"Undergrad\"], palette=\"hls\")"
   ]
  },
  {
   "cell_type": "code",
   "execution_count": 19,
   "metadata": {},
   "outputs": [],
   "source": [
    "# Counts for customers with Undergraduation are relatively high compared to the customers without undergraduation "
   ]
  },
  {
   "cell_type": "code",
   "execution_count": 20,
   "metadata": {
    "scrolled": true
   },
   "outputs": [
    {
     "data": {
      "text/plain": [
       "<matplotlib.axes._subplots.AxesSubplot at 0x23d71293a48>"
      ]
     },
     "execution_count": 20,
     "metadata": {},
     "output_type": "execute_result"
    },
    {
     "data": {
      "image/png": "[encoded data removed]",
      "text/plain": [
       "<Figure size 432x288 with 1 Axes>"
      ]
     },
     "metadata": {
      "needs_background": "light"
     },
     "output_type": "display_data"
    }
   ],
   "source": [
    "sns.countplot(data[\"Urban\"], palette=\"hls\")"
   ]
  },
  {
   "cell_type": "code",
   "execution_count": 21,
   "metadata": {},
   "outputs": [],
   "source": [
    "# Population from urban and non_urban is almost same"
   ]
  },
  {
   "cell_type": "code",
   "execution_count": 22,
   "metadata": {},
   "outputs": [
    {
     "data": {
      "text/plain": [
       "<matplotlib.axes._subplots.AxesSubplot at 0x23d712f48c8>"
      ]
     },
     "execution_count": 22,
     "metadata": {},
     "output_type": "execute_result"
    },
    {
     "data": {
      "image/png": "[encoded data removed]",
      "text/plain": [
       "<Figure size 432x288 with 1 Axes>"
      ]
     },
     "metadata": {
      "needs_background": "light"
     },
     "output_type": "display_data"
    }
   ],
   "source": [
    "sns.countplot(data[\"Marital.Status\"], palette=\"hls\")"
   ]
  },
  {
   "cell_type": "code",
   "execution_count": 23,
   "metadata": {},
   "outputs": [],
   "source": [
    "# Marital status of most of the customers are single and others being Married or Divorced"
   ]
  },
  {
   "cell_type": "code",
   "execution_count": 24,
   "metadata": {
    "scrolled": true
   },
   "outputs": [
    {
     "data": {
      "text/plain": [
       "{'whiskers': [<matplotlib.lines.Line2D at 0x23d713969c8>,\n",
       "  <matplotlib.lines.Line2D at 0x23d71396ac8>],\n",
       " 'caps': [<matplotlib.lines.Line2D at 0x23d7139b988>,\n",
       "  <matplotlib.lines.Line2D at 0x23d7139bfc8>],\n",
       " 'boxes': [<matplotlib.lines.Line2D at 0x23d71390f48>],\n",
       " 'medians': [<matplotlib.lines.Line2D at 0x23d713a0908>],\n",
       " 'fliers': [<matplotlib.lines.Line2D at 0x23d713a0f48>],\n",
       " 'means': []}"
      ]
     },
     "execution_count": 24,
     "metadata": {},
     "output_type": "execute_result"
    },
    {
     "data": {
      "image/png": "[encoded data removed]",
      "text/plain": [
       "<Figure size 432x288 with 1 Axes>"
      ]
     },
     "metadata": {
      "needs_background": "light"
     },
     "output_type": "display_data"
    }
   ],
   "source": [
    "plt.boxplot(data[\"City.Population\"])"
   ]
  },
  {
   "cell_type": "code",
   "execution_count": 25,
   "metadata": {},
   "outputs": [],
   "source": [
    "# The city population has a range of 25000 to 200000 with mean popluation being near 110000"
   ]
  },
  {
   "cell_type": "code",
   "execution_count": 26,
   "metadata": {},
   "outputs": [
    {
     "data": {
      "text/plain": [
       "{'whiskers': [<matplotlib.lines.Line2D at 0x23d71408cc8>,\n",
       "  <matplotlib.lines.Line2D at 0x23d71408dc8>],\n",
       " 'caps': [<matplotlib.lines.Line2D at 0x23d7140bc88>,\n",
       "  <matplotlib.lines.Line2D at 0x23d7140bd88>],\n",
       " 'boxes': [<matplotlib.lines.Line2D at 0x23d71408288>],\n",
       " 'medians': [<matplotlib.lines.Line2D at 0x23d71411c08>],\n",
       " 'fliers': [<matplotlib.lines.Line2D at 0x23d71411d08>],\n",
       " 'means': []}"
      ]
     },
     "execution_count": 26,
     "metadata": {},
     "output_type": "execute_result"
    },
    {
     "data": {
      "image/png": "[encoded data removed]",
      "text/plain": [
       "<Figure size 432x288 with 1 Axes>"
      ]
     },
     "metadata": {
      "needs_background": "light"
     },
     "output_type": "display_data"
    }
   ],
   "source": [
    "plt.boxplot(data[\"Work.Experience\"])"
   ]
  },
  {
   "cell_type": "code",
   "execution_count": 27,
   "metadata": {},
   "outputs": [],
   "source": [
    "# Work experience of the customers vary from 0 years to 30 years, with mean experience being 15 years"
   ]
  },
  {
   "cell_type": "code",
   "execution_count": 28,
   "metadata": {},
   "outputs": [],
   "source": [
    "# Obtaining the dummy variables for 'Undergrad','Marital.Status','Urban'"
   ]
  },
  {
   "cell_type": "code",
   "execution_count": 29,
   "metadata": {},
   "outputs": [
    {
     "data": {
      "text/html": [
       "<div>\n",
       "<style scoped>\n",
       "    .dataframe tbody tr th:only-of-type {\n",
       "        vertical-align: middle;\n",
       "    }\n",
       "\n",
       "    .dataframe tbody tr th {\n",
       "        vertical-align: top;\n",
       "    }\n",
       "\n",
       "    .dataframe thead th {\n",
       "        text-align: right;\n",
       "    }\n",
       "</style>\n",
       "<table border=\"1\" class=\"dataframe\">\n",
       "  <thead>\n",
       "    <tr style=\"text-align: right;\">\n",
       "      <th></th>\n",
       "      <th>Tax_income</th>\n",
       "      <th>City.Population</th>\n",
       "      <th>Work.Experience</th>\n",
       "      <th>Undergrad_YES</th>\n",
       "      <th>Marital.Status_Married</th>\n",
       "      <th>Marital.Status_Single</th>\n",
       "      <th>Urban_YES</th>\n",
       "    </tr>\n",
       "  </thead>\n",
       "  <tbody>\n",
       "    <tr>\n",
       "      <td>0</td>\n",
       "      <td>Good</td>\n",
       "      <td>50047</td>\n",
       "      <td>10</td>\n",
       "      <td>0</td>\n",
       "      <td>0</td>\n",
       "      <td>1</td>\n",
       "      <td>1</td>\n",
       "    </tr>\n",
       "    <tr>\n",
       "      <td>1</td>\n",
       "      <td>Good</td>\n",
       "      <td>134075</td>\n",
       "      <td>18</td>\n",
       "      <td>1</td>\n",
       "      <td>0</td>\n",
       "      <td>0</td>\n",
       "      <td>1</td>\n",
       "    </tr>\n",
       "    <tr>\n",
       "      <td>2</td>\n",
       "      <td>Good</td>\n",
       "      <td>160205</td>\n",
       "      <td>30</td>\n",
       "      <td>0</td>\n",
       "      <td>1</td>\n",
       "      <td>0</td>\n",
       "      <td>1</td>\n",
       "    </tr>\n",
       "    <tr>\n",
       "      <td>3</td>\n",
       "      <td>Good</td>\n",
       "      <td>193264</td>\n",
       "      <td>15</td>\n",
       "      <td>1</td>\n",
       "      <td>0</td>\n",
       "      <td>1</td>\n",
       "      <td>1</td>\n",
       "    </tr>\n",
       "    <tr>\n",
       "      <td>4</td>\n",
       "      <td>Good</td>\n",
       "      <td>27533</td>\n",
       "      <td>28</td>\n",
       "      <td>0</td>\n",
       "      <td>1</td>\n",
       "      <td>0</td>\n",
       "      <td>0</td>\n",
       "    </tr>\n",
       "  </tbody>\n",
       "</table>\n",
       "</div>"
      ],
      "text/plain": [
       "  Tax_income  City.Population  Work.Experience  Undergrad_YES  \\\n",
       "0       Good            50047               10              0   \n",
       "1       Good           134075               18              1   \n",
       "2       Good           160205               30              0   \n",
       "3       Good           193264               15              1   \n",
       "4       Good            27533               28              0   \n",
       "\n",
       "   Marital.Status_Married  Marital.Status_Single  Urban_YES  \n",
       "0                       0                      1          1  \n",
       "1                       0                      0          1  \n",
       "2                       1                      0          1  \n",
       "3                       0                      1          1  \n",
       "4                       1                      0          0  "
      ]
     },
     "execution_count": 29,
     "metadata": {},
     "output_type": "execute_result"
    }
   ],
   "source": [
    "data = pd.get_dummies(data, columns =['Undergrad','Marital.Status','Urban'],drop_first=True)\n",
    "data.head()"
   ]
  },
  {
   "cell_type": "code",
   "execution_count": 30,
   "metadata": {},
   "outputs": [],
   "source": [
    "# Checking for any NA values"
   ]
  },
  {
   "cell_type": "code",
   "execution_count": 31,
   "metadata": {},
   "outputs": [
    {
     "data": {
      "text/plain": [
       "Tax_income                0\n",
       "City.Population           0\n",
       "Work.Experience           0\n",
       "Undergrad_YES             0\n",
       "Marital.Status_Married    0\n",
       "Marital.Status_Single     0\n",
       "Urban_YES                 0\n",
       "dtype: int64"
      ]
     },
     "execution_count": 31,
     "metadata": {},
     "output_type": "execute_result"
    }
   ],
   "source": [
    "data.isna().sum()"
   ]
  },
  {
   "cell_type": "code",
   "execution_count": 32,
   "metadata": {},
   "outputs": [],
   "source": [
    "# No NA values in the dataset"
   ]
  },
  {
   "cell_type": "code",
   "execution_count": 33,
   "metadata": {},
   "outputs": [
    {
     "data": {
      "text/plain": [
       "(600, 7)"
      ]
     },
     "execution_count": 33,
     "metadata": {},
     "output_type": "execute_result"
    }
   ],
   "source": [
    "data.shape"
   ]
  },
  {
   "cell_type": "code",
   "execution_count": 34,
   "metadata": {},
   "outputs": [],
   "source": [
    "# Divivng the data into X and Y i.e. predictors and target"
   ]
  },
  {
   "cell_type": "code",
   "execution_count": 35,
   "metadata": {},
   "outputs": [],
   "source": [
    "X = data.iloc[:,1:]\n",
    "Y = data.iloc[:,0]"
   ]
  },
  {
   "cell_type": "code",
   "execution_count": 36,
   "metadata": {},
   "outputs": [],
   "source": [
    "# Splitting the data into training and testing dataset"
   ]
  },
  {
   "cell_type": "code",
   "execution_count": 37,
   "metadata": {},
   "outputs": [],
   "source": [
    "x_train,x_test,y_train,y_test= train_test_split(X,Y, test_size=0.2)"
   ]
  },
  {
   "cell_type": "markdown",
   "metadata": {},
   "source": [
    "## Decision tree classifier"
   ]
  },
  {
   "cell_type": "code",
   "execution_count": 38,
   "metadata": {},
   "outputs": [],
   "source": [
    "# Building the Decision tree model with \"entropy\" as criterion"
   ]
  },
  {
   "cell_type": "code",
   "execution_count": 39,
   "metadata": {},
   "outputs": [],
   "source": [
    "from sklearn.tree import DecisionTreeClassifier\n",
    "from sklearn import tree"
   ]
  },
  {
   "cell_type": "code",
   "execution_count": 40,
   "metadata": {},
   "outputs": [],
   "source": [
    "model = DecisionTreeClassifier(criterion=\"entropy\")"
   ]
  },
  {
   "cell_type": "code",
   "execution_count": 41,
   "metadata": {},
   "outputs": [
    {
     "data": {
      "text/plain": [
       "DecisionTreeClassifier(criterion='entropy')"
      ]
     },
     "execution_count": 41,
     "metadata": {},
     "output_type": "execute_result"
    }
   ],
   "source": [
    "model.fit(x_train, y_train)"
   ]
  },
  {
   "cell_type": "code",
   "execution_count": 42,
   "metadata": {},
   "outputs": [],
   "source": [
    "# Predicting the target values using the model"
   ]
  },
  {
   "cell_type": "code",
   "execution_count": 43,
   "metadata": {},
   "outputs": [
    {
     "data": {
      "text/plain": [
       "array(['Good', 'Risky', 'Good', 'Risky', 'Good', 'Good', 'Good', 'Good',\n",
       "       'Good', 'Good', 'Good', 'Good', 'Good', 'Good', 'Good', 'Good',\n",
       "       'Risky', 'Good', 'Good', 'Good', 'Good', 'Good', 'Good', 'Good',\n",
       "       'Good', 'Good', 'Good', 'Good', 'Good', 'Risky', 'Good', 'Good',\n",
       "       'Good', 'Good', 'Good', 'Good', 'Good', 'Good', 'Good', 'Good',\n",
       "       'Good', 'Good', 'Good', 'Risky', 'Good', 'Risky', 'Good', 'Risky',\n",
       "       'Good', 'Good', 'Good', 'Risky', 'Good', 'Risky', 'Good', 'Good',\n",
       "       'Good', 'Good', 'Good', 'Risky', 'Risky', 'Good', 'Good', 'Good',\n",
       "       'Risky', 'Risky', 'Good', 'Good', 'Risky', 'Good', 'Good', 'Good',\n",
       "       'Good', 'Risky', 'Good', 'Good', 'Good', 'Risky', 'Good', 'Good',\n",
       "       'Good', 'Good', 'Good', 'Good', 'Risky', 'Good', 'Good', 'Good',\n",
       "       'Good', 'Risky', 'Good', 'Good', 'Good', 'Good', 'Good', 'Good',\n",
       "       'Good', 'Good', 'Good', 'Good', 'Good', 'Good', 'Good', 'Good',\n",
       "       'Risky', 'Good', 'Good', 'Good', 'Good', 'Risky', 'Good', 'Good',\n",
       "       'Risky', 'Risky', 'Good', 'Good', 'Good', 'Risky', 'Risky', 'Good'],\n",
       "      dtype=object)"
      ]
     },
     "execution_count": 43,
     "metadata": {},
     "output_type": "execute_result"
    }
   ],
   "source": [
    "y_pred = model.predict(x_test)\n",
    "y_pred"
   ]
  },
  {
   "cell_type": "code",
   "execution_count": 44,
   "metadata": {},
   "outputs": [],
   "source": [
    "# Value counts of predicted values"
   ]
  },
  {
   "cell_type": "code",
   "execution_count": 45,
   "metadata": {},
   "outputs": [
    {
     "data": {
      "text/plain": [
       "Good     96\n",
       "Risky    24\n",
       "dtype: int64"
      ]
     },
     "execution_count": 45,
     "metadata": {},
     "output_type": "execute_result"
    }
   ],
   "source": [
    "pd.Series(y_pred).value_counts()"
   ]
  },
  {
   "cell_type": "code",
   "execution_count": 46,
   "metadata": {},
   "outputs": [],
   "source": [
    "# Buliding confusion matrix"
   ]
  },
  {
   "cell_type": "code",
   "execution_count": 47,
   "metadata": {},
   "outputs": [
    {
     "data": {
      "text/plain": [
       "array([[79, 17],\n",
       "       [22,  2]], dtype=int64)"
      ]
     },
     "execution_count": 47,
     "metadata": {},
     "output_type": "execute_result"
    }
   ],
   "source": [
    "confusion_matrix(y_pred, y_test)"
   ]
  },
  {
   "cell_type": "code",
   "execution_count": 48,
   "metadata": {},
   "outputs": [],
   "source": [
    "# Accuracy of the model"
   ]
  },
  {
   "cell_type": "code",
   "execution_count": 49,
   "metadata": {},
   "outputs": [
    {
     "data": {
      "text/plain": [
       "0.675"
      ]
     },
     "execution_count": 49,
     "metadata": {},
     "output_type": "execute_result"
    }
   ],
   "source": [
    "Accuracy_entropy = accuracy_score(y_pred,y_test)\n",
    "Accuracy_entropy"
   ]
  },
  {
   "cell_type": "code",
   "execution_count": 50,
   "metadata": {},
   "outputs": [],
   "source": [
    "# Using the Decision tree model again but using the \"gini\" as criterion"
   ]
  },
  {
   "cell_type": "code",
   "execution_count": 51,
   "metadata": {},
   "outputs": [],
   "source": [
    "model1 = DecisionTreeClassifier(criterion=\"gini\")"
   ]
  },
  {
   "cell_type": "code",
   "execution_count": 52,
   "metadata": {},
   "outputs": [
    {
     "data": {
      "text/plain": [
       "DecisionTreeClassifier()"
      ]
     },
     "execution_count": 52,
     "metadata": {},
     "output_type": "execute_result"
    }
   ],
   "source": [
    "model1.fit(x_train, y_train)"
   ]
  },
  {
   "cell_type": "code",
   "execution_count": 53,
   "metadata": {},
   "outputs": [],
   "source": [
    "# Predicting the target values using the model"
   ]
  },
  {
   "cell_type": "code",
   "execution_count": 54,
   "metadata": {},
   "outputs": [
    {
     "data": {
      "text/plain": [
       "array(['Risky', 'Risky', 'Good', 'Risky', 'Risky', 'Risky', 'Good',\n",
       "       'Good', 'Good', 'Good', 'Good', 'Good', 'Risky', 'Good', 'Good',\n",
       "       'Good', 'Good', 'Good', 'Good', 'Good', 'Good', 'Good', 'Good',\n",
       "       'Good', 'Good', 'Good', 'Good', 'Good', 'Risky', 'Risky', 'Good',\n",
       "       'Good', 'Good', 'Good', 'Good', 'Good', 'Risky', 'Good', 'Risky',\n",
       "       'Good', 'Good', 'Good', 'Good', 'Good', 'Risky', 'Risky', 'Risky',\n",
       "       'Good', 'Good', 'Good', 'Good', 'Risky', 'Good', 'Risky', 'Risky',\n",
       "       'Good', 'Good', 'Good', 'Good', 'Risky', 'Good', 'Good', 'Good',\n",
       "       'Good', 'Risky', 'Risky', 'Good', 'Good', 'Risky', 'Good', 'Risky',\n",
       "       'Good', 'Good', 'Good', 'Good', 'Good', 'Good', 'Risky', 'Good',\n",
       "       'Good', 'Good', 'Good', 'Good', 'Good', 'Risky', 'Good', 'Good',\n",
       "       'Good', 'Good', 'Risky', 'Good', 'Good', 'Good', 'Risky', 'Good',\n",
       "       'Good', 'Good', 'Good', 'Risky', 'Good', 'Good', 'Good', 'Good',\n",
       "       'Good', 'Good', 'Good', 'Good', 'Good', 'Good', 'Risky', 'Good',\n",
       "       'Risky', 'Risky', 'Risky', 'Good', 'Good', 'Good', 'Good', 'Good',\n",
       "       'Good'], dtype=object)"
      ]
     },
     "execution_count": 54,
     "metadata": {},
     "output_type": "execute_result"
    }
   ],
   "source": [
    "y_pred1 = model1.predict(x_test)\n",
    "y_pred1"
   ]
  },
  {
   "cell_type": "code",
   "execution_count": 55,
   "metadata": {},
   "outputs": [],
   "source": [
    "# Value counts of predicted values"
   ]
  },
  {
   "cell_type": "code",
   "execution_count": 56,
   "metadata": {},
   "outputs": [
    {
     "data": {
      "text/plain": [
       "Good     90\n",
       "Risky    30\n",
       "dtype: int64"
      ]
     },
     "execution_count": 56,
     "metadata": {},
     "output_type": "execute_result"
    }
   ],
   "source": [
    "pd.Series(y_pred1).value_counts()"
   ]
  },
  {
   "cell_type": "code",
   "execution_count": 57,
   "metadata": {},
   "outputs": [],
   "source": [
    "# Buliding the confusion matrix"
   ]
  },
  {
   "cell_type": "code",
   "execution_count": 58,
   "metadata": {},
   "outputs": [
    {
     "data": {
      "text/plain": [
       "array([[74, 16],\n",
       "       [27,  3]], dtype=int64)"
      ]
     },
     "execution_count": 58,
     "metadata": {},
     "output_type": "execute_result"
    }
   ],
   "source": [
    "confusion_matrix(y_pred1, y_test)"
   ]
  },
  {
   "cell_type": "code",
   "execution_count": 59,
   "metadata": {},
   "outputs": [],
   "source": [
    "# Visualizing the Decision tree"
   ]
  },
  {
   "cell_type": "code",
   "execution_count": 60,
   "metadata": {},
   "outputs": [
    {
     "data": {
      "text/plain": [
       "[Text(582.4649572095436, 531.2454545454545, 'X[1] <= 24.5\\ngini = 0.342\\nsamples = 480\\nvalue = [375, 105]'),\n",
       " Text(442.5398729253112, 506.53636363636366, 'X[0] <= 197770.0\\ngini = 0.361\\nsamples = 377\\nvalue = [288, 89]'),\n",
       " Text(324.18555497925314, 481.82727272727277, 'X[1] <= 17.5\\ngini = 0.355\\nsamples = 372\\nvalue = [286, 86]'),\n",
       " Text(166.48832987551867, 457.1181818181818, 'X[1] <= 2.5\\ngini = 0.327\\nsamples = 277\\nvalue = [220, 57]'),\n",
       " Text(48.622406639004154, 432.40909090909093, 'X[0] <= 173412.5\\ngini = 0.202\\nsamples = 35\\nvalue = [31, 4]'),\n",
       " Text(34.73029045643153, 407.70000000000005, 'X[2] <= 0.5\\ngini = 0.165\\nsamples = 33\\nvalue = [30, 3]'),\n",
       " Text(27.78423236514523, 382.9909090909091, 'X[0] <= 82679.5\\ngini = 0.337\\nsamples = 14\\nvalue = [11, 3]'),\n",
       " Text(20.83817427385892, 358.28181818181815, 'X[0] <= 78808.0\\ngini = 0.469\\nsamples = 8\\nvalue = [5, 3]'),\n",
       " Text(13.892116182572614, 333.5727272727273, 'X[0] <= 31559.0\\ngini = 0.408\\nsamples = 7\\nvalue = [5, 2]'),\n",
       " Text(6.946058091286307, 308.8636363636364, 'gini = 0.0\\nsamples = 2\\nvalue = [2, 0]'),\n",
       " Text(20.83817427385892, 308.8636363636364, 'X[0] <= 66115.0\\ngini = 0.48\\nsamples = 5\\nvalue = [3, 2]'),\n",
       " Text(13.892116182572614, 284.1545454545455, 'X[0] <= 43212.0\\ngini = 0.444\\nsamples = 3\\nvalue = [1, 2]'),\n",
       " Text(6.946058091286307, 259.44545454545454, 'gini = 0.0\\nsamples = 1\\nvalue = [0, 1]'),\n",
       " Text(20.83817427385892, 259.44545454545454, 'X[0] <= 58655.0\\ngini = 0.5\\nsamples = 2\\nvalue = [1, 1]'),\n",
       " Text(13.892116182572614, 234.73636363636365, 'gini = 0.0\\nsamples = 1\\nvalue = [1, 0]'),\n",
       " Text(27.78423236514523, 234.73636363636365, 'gini = 0.0\\nsamples = 1\\nvalue = [0, 1]'),\n",
       " Text(27.78423236514523, 284.1545454545455, 'gini = 0.0\\nsamples = 2\\nvalue = [2, 0]'),\n",
       " Text(27.78423236514523, 333.5727272727273, 'gini = 0.0\\nsamples = 1\\nvalue = [0, 1]'),\n",
       " Text(34.73029045643153, 358.28181818181815, 'gini = 0.0\\nsamples = 6\\nvalue = [6, 0]'),\n",
       " Text(41.67634854771784, 382.9909090909091, 'gini = 0.0\\nsamples = 19\\nvalue = [19, 0]'),\n",
       " Text(62.51452282157676, 407.70000000000005, 'X[1] <= 1.5\\ngini = 0.5\\nsamples = 2\\nvalue = [1, 1]'),\n",
       " Text(55.56846473029046, 382.9909090909091, 'gini = 0.0\\nsamples = 1\\nvalue = [0, 1]'),\n",
       " Text(69.46058091286307, 382.9909090909091, 'gini = 0.0\\nsamples = 1\\nvalue = [1, 0]'),\n",
       " Text(284.3542531120332, 432.40909090909093, 'X[0] <= 140941.5\\ngini = 0.342\\nsamples = 242\\nvalue = [189, 53]'),\n",
       " Text(216.19605809128632, 407.70000000000005, 'X[0] <= 136727.5\\ngini = 0.372\\nsamples = 166\\nvalue = [125, 41]'),\n",
       " Text(198.83091286307055, 382.9909090909091, 'X[0] <= 130040.5\\ngini = 0.352\\nsamples = 158\\nvalue = [122, 36]'),\n",
       " Text(191.88485477178423, 358.28181818181815, 'X[0] <= 128608.5\\ngini = 0.365\\nsamples = 150\\nvalue = [114, 36]'),\n",
       " Text(177.99273858921163, 333.5727272727273, 'X[0] <= 116189.5\\ngini = 0.35\\nsamples = 146\\nvalue = [113, 33]'),\n",
       " Text(171.0466804979253, 308.8636363636364, 'X[0] <= 100521.5\\ngini = 0.375\\nsamples = 132\\nvalue = [99, 33]'),\n",
       " Text(98.98132780082987, 284.1545454545455, 'X[1] <= 6.5\\ngini = 0.337\\nsamples = 112\\nvalue = [88, 24]'),\n",
       " Text(48.622406639004154, 259.44545454545454, 'X[0] <= 87875.5\\ngini = 0.159\\nsamples = 23\\nvalue = [21, 2]'),\n",
       " Text(41.67634854771784, 234.73636363636365, 'gini = 0.0\\nsamples = 19\\nvalue = [19, 0]'),\n",
       " Text(55.56846473029046, 234.73636363636365, 'X[0] <= 95723.0\\ngini = 0.5\\nsamples = 4\\nvalue = [2, 2]'),\n",
       " Text(48.622406639004154, 210.0272727272727, 'gini = 0.0\\nsamples = 2\\nvalue = [0, 2]'),\n",
       " Text(62.51452282157676, 210.0272727272727, 'gini = 0.0\\nsamples = 2\\nvalue = [2, 0]'),\n",
       " Text(149.3402489626556, 259.44545454545454, 'X[5] <= 0.5\\ngini = 0.372\\nsamples = 89\\nvalue = [67, 22]'),\n",
       " Text(100.71784232365145, 234.73636363636365, 'X[0] <= 40997.5\\ngini = 0.444\\nsamples = 36\\nvalue = [24, 12]'),\n",
       " Text(76.40663900414938, 210.0272727272727, 'X[0] <= 36368.0\\ngini = 0.48\\nsamples = 10\\nvalue = [4, 6]'),\n",
       " Text(69.46058091286307, 185.3181818181818, 'X[1] <= 9.5\\ngini = 0.444\\nsamples = 6\\nvalue = [4, 2]'),\n",
       " Text(62.51452282157676, 160.60909090909092, 'gini = 0.0\\nsamples = 1\\nvalue = [0, 1]'),\n",
       " Text(76.40663900414938, 160.60909090909092, 'X[1] <= 11.5\\ngini = 0.32\\nsamples = 5\\nvalue = [4, 1]'),\n",
       " Text(69.46058091286307, 135.89999999999998, 'gini = 0.0\\nsamples = 3\\nvalue = [3, 0]'),\n",
       " Text(83.35269709543569, 135.89999999999998, 'X[3] <= 0.5\\ngini = 0.5\\nsamples = 2\\nvalue = [1, 1]'),\n",
       " Text(76.40663900414938, 111.19090909090909, 'gini = 0.0\\nsamples = 1\\nvalue = [1, 0]'),\n",
       " Text(90.29875518672199, 111.19090909090909, 'gini = 0.0\\nsamples = 1\\nvalue = [0, 1]'),\n",
       " Text(83.35269709543569, 185.3181818181818, 'gini = 0.0\\nsamples = 4\\nvalue = [0, 4]'),\n",
       " Text(125.02904564315352, 210.0272727272727, 'X[1] <= 8.5\\ngini = 0.355\\nsamples = 26\\nvalue = [20, 6]'),\n",
       " Text(111.13692946058092, 185.3181818181818, 'X[3] <= 0.5\\ngini = 0.444\\nsamples = 3\\nvalue = [1, 2]'),\n",
       " Text(104.19087136929461, 160.60909090909092, 'X[0] <= 53173.0\\ngini = 0.5\\nsamples = 2\\nvalue = [1, 1]'),\n",
       " Text(97.24481327800831, 135.89999999999998, 'gini = 0.0\\nsamples = 1\\nvalue = [0, 1]'),\n",
       " Text(111.13692946058092, 135.89999999999998, 'gini = 0.0\\nsamples = 1\\nvalue = [1, 0]'),\n",
       " Text(118.08298755186722, 160.60909090909092, 'gini = 0.0\\nsamples = 1\\nvalue = [0, 1]'),\n",
       " Text(138.92116182572613, 185.3181818181818, 'X[0] <= 63282.5\\ngini = 0.287\\nsamples = 23\\nvalue = [19, 4]'),\n",
       " Text(131.97510373443984, 160.60909090909092, 'gini = 0.0\\nsamples = 10\\nvalue = [10, 0]'),\n",
       " Text(145.86721991701245, 160.60909090909092, 'X[0] <= 82976.5\\ngini = 0.426\\nsamples = 13\\nvalue = [9, 4]'),\n",
       " Text(138.92116182572613, 135.89999999999998, 'X[0] <= 78586.0\\ngini = 0.49\\nsamples = 7\\nvalue = [3, 4]'),\n",
       " Text(131.97510373443984, 111.19090909090909, 'X[1] <= 13.5\\ngini = 0.48\\nsamples = 5\\nvalue = [3, 2]'),\n",
       " Text(125.02904564315352, 86.4818181818182, 'gini = 0.0\\nsamples = 2\\nvalue = [2, 0]'),\n",
       " Text(138.92116182572613, 86.4818181818182, 'X[0] <= 74920.0\\ngini = 0.444\\nsamples = 3\\nvalue = [1, 2]'),\n",
       " Text(131.97510373443984, 61.77272727272725, 'gini = 0.0\\nsamples = 2\\nvalue = [0, 2]'),\n",
       " Text(145.86721991701245, 61.77272727272725, 'gini = 0.0\\nsamples = 1\\nvalue = [1, 0]'),\n",
       " Text(145.86721991701245, 111.19090909090909, 'gini = 0.0\\nsamples = 2\\nvalue = [0, 2]'),\n",
       " Text(152.81327800829877, 135.89999999999998, 'gini = 0.0\\nsamples = 6\\nvalue = [6, 0]'),\n",
       " Text(197.96265560165975, 234.73636363636365, 'X[1] <= 12.5\\ngini = 0.306\\nsamples = 53\\nvalue = [43, 10]'),\n",
       " Text(180.59751037344398, 210.0272727272727, 'X[0] <= 29602.0\\ngini = 0.137\\nsamples = 27\\nvalue = [25, 2]'),\n",
       " Text(166.70539419087137, 185.3181818181818, 'X[4] <= 0.5\\ngini = 0.5\\nsamples = 2\\nvalue = [1, 1]'),\n",
       " Text(159.75933609958506, 160.60909090909092, 'gini = 0.0\\nsamples = 1\\nvalue = [0, 1]'),\n",
       " Text(173.6514522821577, 160.60909090909092, 'gini = 0.0\\nsamples = 1\\nvalue = [1, 0]'),\n",
       " Text(194.48962655601662, 185.3181818181818, 'X[1] <= 7.5\\ngini = 0.077\\nsamples = 25\\nvalue = [24, 1]'),\n",
       " Text(187.5435684647303, 160.60909090909092, 'X[0] <= 60686.0\\ngini = 0.245\\nsamples = 7\\nvalue = [6, 1]'),\n",
       " Text(180.59751037344398, 135.89999999999998, 'X[0] <= 46038.0\\ngini = 0.444\\nsamples = 3\\nvalue = [2, 1]'),\n",
       " Text(173.6514522821577, 111.19090909090909, 'gini = 0.0\\nsamples = 2\\nvalue = [2, 0]'),\n",
       " Text(187.5435684647303, 111.19090909090909, 'gini = 0.0\\nsamples = 1\\nvalue = [0, 1]'),\n",
       " Text(194.48962655601662, 135.89999999999998, 'gini = 0.0\\nsamples = 4\\nvalue = [4, 0]'),\n",
       " Text(201.4356846473029, 160.60909090909092, 'gini = 0.0\\nsamples = 18\\nvalue = [18, 0]'),\n",
       " Text(215.3278008298755, 210.0272727272727, 'X[0] <= 44513.0\\ngini = 0.426\\nsamples = 26\\nvalue = [18, 8]'),\n",
       " Text(208.38174273858922, 185.3181818181818, 'gini = 0.0\\nsamples = 5\\nvalue = [5, 0]'),\n",
       " Text(222.27385892116183, 185.3181818181818, 'X[0] <= 48501.0\\ngini = 0.472\\nsamples = 21\\nvalue = [13, 8]'),\n",
       " Text(215.3278008298755, 160.60909090909092, 'gini = 0.0\\nsamples = 1\\nvalue = [0, 1]'),\n",
       " Text(229.21991701244815, 160.60909090909092, 'X[0] <= 93832.0\\ngini = 0.455\\nsamples = 20\\nvalue = [13, 7]'),\n",
       " Text(222.27385892116183, 135.89999999999998, 'X[1] <= 15.5\\ngini = 0.432\\nsamples = 19\\nvalue = [13, 6]'),\n",
       " Text(204.90871369294607, 111.19090909090909, 'X[0] <= 63243.0\\ngini = 0.298\\nsamples = 11\\nvalue = [9, 2]'),\n",
       " Text(191.01659751037346, 86.4818181818182, 'X[2] <= 0.5\\ngini = 0.5\\nsamples = 2\\nvalue = [1, 1]'),\n",
       " Text(184.07053941908714, 61.77272727272725, 'gini = 0.0\\nsamples = 1\\nvalue = [1, 0]'),\n",
       " Text(197.96265560165975, 61.77272727272725, 'gini = 0.0\\nsamples = 1\\nvalue = [0, 1]'),\n",
       " Text(218.80082987551867, 86.4818181818182, 'X[0] <= 80623.0\\ngini = 0.198\\nsamples = 9\\nvalue = [8, 1]'),\n",
       " Text(211.85477178423238, 61.77272727272725, 'gini = 0.0\\nsamples = 5\\nvalue = [5, 0]'),\n",
       " Text(225.746887966805, 61.77272727272725, 'X[0] <= 83394.0\\ngini = 0.375\\nsamples = 4\\nvalue = [3, 1]'),\n",
       " Text(218.80082987551867, 37.06363636363636, 'gini = 0.0\\nsamples = 1\\nvalue = [0, 1]'),\n",
       " Text(232.69294605809128, 37.06363636363636, 'gini = 0.0\\nsamples = 3\\nvalue = [3, 0]'),\n",
       " Text(239.6390041493776, 111.19090909090909, 'X[0] <= 63548.0\\ngini = 0.5\\nsamples = 8\\nvalue = [4, 4]'),\n",
       " Text(232.69294605809128, 86.4818181818182, 'gini = 0.0\\nsamples = 2\\nvalue = [2, 0]'),\n",
       " Text(246.58506224066392, 86.4818181818182, 'X[3] <= 0.5\\ngini = 0.444\\nsamples = 6\\nvalue = [2, 4]'),\n",
       " Text(239.6390041493776, 61.77272727272725, 'gini = 0.0\\nsamples = 3\\nvalue = [0, 3]'),\n",
       " Text(253.5311203319502, 61.77272727272725, 'X[1] <= 16.5\\ngini = 0.444\\nsamples = 3\\nvalue = [2, 1]'),\n",
       " Text(246.58506224066392, 37.06363636363636, 'X[0] <= 86648.5\\ngini = 0.5\\nsamples = 2\\nvalue = [1, 1]'),\n",
       " Text(239.6390041493776, 12.354545454545473, 'gini = 0.0\\nsamples = 1\\nvalue = [0, 1]'),\n",
       " Text(253.5311203319502, 12.354545454545473, 'gini = 0.0\\nsamples = 1\\nvalue = [1, 0]'),\n",
       " Text(260.4771784232365, 37.06363636363636, 'gini = 0.0\\nsamples = 1\\nvalue = [1, 0]'),\n",
       " Text(236.16597510373444, 135.89999999999998, 'gini = 0.0\\nsamples = 1\\nvalue = [0, 1]'),\n",
       " Text(243.11203319502076, 284.1545454545455, 'X[0] <= 102112.0\\ngini = 0.495\\nsamples = 20\\nvalue = [11, 9]'),\n",
       " Text(236.16597510373444, 259.44545454545454, 'gini = 0.0\\nsamples = 3\\nvalue = [0, 3]'),\n",
       " Text(250.05809128630705, 259.44545454545454, 'X[0] <= 104358.5\\ngini = 0.457\\nsamples = 17\\nvalue = [11, 6]'),\n",
       " Text(243.11203319502076, 234.73636363636365, 'gini = 0.0\\nsamples = 4\\nvalue = [4, 0]'),\n",
       " Text(257.00414937759336, 234.73636363636365, 'X[4] <= 0.5\\ngini = 0.497\\nsamples = 13\\nvalue = [7, 6]'),\n",
       " Text(243.11203319502076, 210.0272727272727, 'X[2] <= 0.5\\ngini = 0.278\\nsamples = 6\\nvalue = [5, 1]'),\n",
       " Text(236.16597510373444, 185.3181818181818, 'gini = 0.0\\nsamples = 1\\nvalue = [0, 1]'),\n",
       " Text(250.05809128630705, 185.3181818181818, 'gini = 0.0\\nsamples = 5\\nvalue = [5, 0]'),\n",
       " Text(270.896265560166, 210.0272727272727, 'X[1] <= 5.5\\ngini = 0.408\\nsamples = 7\\nvalue = [2, 5]'),\n",
       " Text(263.9502074688797, 185.3181818181818, 'gini = 0.0\\nsamples = 1\\nvalue = [1, 0]'),\n",
       " Text(277.84232365145226, 185.3181818181818, 'X[0] <= 112832.0\\ngini = 0.278\\nsamples = 6\\nvalue = [1, 5]'),\n",
       " Text(270.896265560166, 160.60909090909092, 'gini = 0.0\\nsamples = 4\\nvalue = [0, 4]'),\n",
       " Text(284.7883817427386, 160.60909090909092, 'X[0] <= 114387.0\\ngini = 0.5\\nsamples = 2\\nvalue = [1, 1]'),\n",
       " Text(277.84232365145226, 135.89999999999998, 'gini = 0.0\\nsamples = 1\\nvalue = [1, 0]'),\n",
       " Text(291.7344398340249, 135.89999999999998, 'gini = 0.0\\nsamples = 1\\nvalue = [0, 1]'),\n",
       " Text(184.93879668049794, 308.8636363636364, 'gini = 0.0\\nsamples = 14\\nvalue = [14, 0]'),\n",
       " Text(205.77697095435684, 333.5727272727273, 'X[5] <= 0.5\\ngini = 0.375\\nsamples = 4\\nvalue = [1, 3]'),\n",
       " Text(198.83091286307055, 308.8636363636364, 'gini = 0.0\\nsamples = 1\\nvalue = [1, 0]'),\n",
       " Text(212.72302904564316, 308.8636363636364, 'gini = 0.0\\nsamples = 3\\nvalue = [0, 3]'),\n",
       " Text(205.77697095435684, 358.28181818181815, 'gini = 0.0\\nsamples = 8\\nvalue = [8, 0]'),\n",
       " Text(233.56120331950208, 382.9909090909091, 'X[1] <= 11.5\\ngini = 0.469\\nsamples = 8\\nvalue = [3, 5]'),\n",
       " Text(226.61514522821577, 358.28181818181815, 'X[2] <= 0.5\\ngini = 0.278\\nsamples = 6\\nvalue = [1, 5]'),\n",
       " Text(219.66908713692948, 333.5727272727273, 'gini = 0.0\\nsamples = 3\\nvalue = [0, 3]'),\n",
       " Text(233.56120331950208, 333.5727272727273, 'X[5] <= 0.5\\ngini = 0.444\\nsamples = 3\\nvalue = [1, 2]'),\n",
       " Text(226.61514522821577, 308.8636363636364, 'gini = 0.0\\nsamples = 1\\nvalue = [1, 0]'),\n",
       " Text(240.5072614107884, 308.8636363636364, 'gini = 0.0\\nsamples = 2\\nvalue = [0, 2]'),\n",
       " Text(240.5072614107884, 358.28181818181815, 'gini = 0.0\\nsamples = 2\\nvalue = [2, 0]'),\n",
       " Text(352.5124481327801, 407.70000000000005, 'X[5] <= 0.5\\ngini = 0.266\\nsamples = 76\\nvalue = [64, 12]'),\n",
       " Text(322.99170124481327, 382.9909090909091, 'X[1] <= 11.5\\ngini = 0.361\\nsamples = 38\\nvalue = [29, 9]'),\n",
       " Text(305.62655601659753, 358.28181818181815, 'X[1] <= 10.5\\ngini = 0.455\\nsamples = 20\\nvalue = [13, 7]'),\n",
       " Text(298.6804979253112, 333.5727272727273, 'X[0] <= 154946.0\\ngini = 0.36\\nsamples = 17\\nvalue = [13, 4]'),\n",
       " Text(291.7344398340249, 308.8636363636364, 'gini = 0.0\\nsamples = 4\\nvalue = [4, 0]'),\n",
       " Text(305.62655601659753, 308.8636363636364, 'X[0] <= 159318.0\\ngini = 0.426\\nsamples = 13\\nvalue = [9, 4]'),\n",
       " Text(298.6804979253112, 284.1545454545455, 'gini = 0.0\\nsamples = 1\\nvalue = [0, 1]'),\n",
       " Text(312.57261410788385, 284.1545454545455, 'X[4] <= 0.5\\ngini = 0.375\\nsamples = 12\\nvalue = [9, 3]'),\n",
       " Text(298.6804979253112, 259.44545454545454, 'X[0] <= 165625.0\\ngini = 0.219\\nsamples = 8\\nvalue = [7, 1]'),\n",
       " Text(291.7344398340249, 234.73636363636365, 'X[1] <= 7.5\\ngini = 0.5\\nsamples = 2\\nvalue = [1, 1]'),\n",
       " Text(284.7883817427386, 210.0272727272727, 'gini = 0.0\\nsamples = 1\\nvalue = [0, 1]'),\n",
       " Text(298.6804979253112, 210.0272727272727, 'gini = 0.0\\nsamples = 1\\nvalue = [1, 0]'),\n",
       " Text(305.62655601659753, 234.73636363636365, 'gini = 0.0\\nsamples = 6\\nvalue = [6, 0]'),\n",
       " Text(326.46473029045643, 259.44545454545454, 'X[2] <= 0.5\\ngini = 0.5\\nsamples = 4\\nvalue = [2, 2]'),\n",
       " Text(319.5186721991701, 234.73636363636365, 'gini = 0.0\\nsamples = 1\\nvalue = [0, 1]'),\n",
       " Text(333.41078838174275, 234.73636363636365, 'X[1] <= 8.0\\ngini = 0.444\\nsamples = 3\\nvalue = [2, 1]'),\n",
       " Text(326.46473029045643, 210.0272727272727, 'gini = 0.0\\nsamples = 2\\nvalue = [2, 0]'),\n",
       " Text(340.35684647302907, 210.0272727272727, 'gini = 0.0\\nsamples = 1\\nvalue = [0, 1]'),\n",
       " Text(312.57261410788385, 333.5727272727273, 'gini = 0.0\\nsamples = 3\\nvalue = [0, 3]'),\n",
       " Text(340.35684647302907, 358.28181818181815, 'X[2] <= 0.5\\ngini = 0.198\\nsamples = 18\\nvalue = [16, 2]'),\n",
       " Text(333.41078838174275, 333.5727272727273, 'X[0] <= 153150.0\\ngini = 0.346\\nsamples = 9\\nvalue = [7, 2]'),\n",
       " Text(326.46473029045643, 308.8636363636364, 'gini = 0.0\\nsamples = 1\\nvalue = [0, 1]'),\n",
       " Text(340.35684647302907, 308.8636363636364, 'X[3] <= 0.5\\ngini = 0.219\\nsamples = 8\\nvalue = [7, 1]'),\n",
       " Text(333.41078838174275, 284.1545454545455, 'gini = 0.0\\nsamples = 5\\nvalue = [5, 0]'),\n",
       " Text(347.3029045643154, 284.1545454545455, 'X[1] <= 15.0\\ngini = 0.444\\nsamples = 3\\nvalue = [2, 1]'),\n",
       " Text(340.35684647302907, 259.44545454545454, 'gini = 0.0\\nsamples = 1\\nvalue = [0, 1]'),\n",
       " Text(354.24896265560164, 259.44545454545454, 'gini = 0.0\\nsamples = 2\\nvalue = [2, 0]'),\n",
       " Text(347.3029045643154, 333.5727272727273, 'gini = 0.0\\nsamples = 9\\nvalue = [9, 0]'),\n",
       " Text(382.0331950207469, 382.9909090909091, 'X[0] <= 193629.5\\ngini = 0.145\\nsamples = 38\\nvalue = [35, 3]'),\n",
       " Text(368.1410788381743, 358.28181818181815, 'X[0] <= 149834.5\\ngini = 0.057\\nsamples = 34\\nvalue = [33, 1]'),\n",
       " Text(361.19502074688796, 333.5727272727273, 'X[0] <= 147858.5\\ngini = 0.278\\nsamples = 6\\nvalue = [5, 1]'),\n",
       " Text(354.24896265560164, 308.8636363636364, 'gini = 0.0\\nsamples = 5\\nvalue = [5, 0]'),\n",
       " Text(368.1410788381743, 308.8636363636364, 'gini = 0.0\\nsamples = 1\\nvalue = [0, 1]'),\n",
       " Text(375.0871369294606, 333.5727272727273, 'gini = 0.0\\nsamples = 28\\nvalue = [28, 0]'),\n",
       " Text(395.9253112033195, 358.28181818181815, 'X[1] <= 9.0\\ngini = 0.5\\nsamples = 4\\nvalue = [2, 2]'),\n",
       " Text(388.97925311203323, 333.5727272727273, 'gini = 0.0\\nsamples = 2\\nvalue = [0, 2]'),\n",
       " Text(402.8713692946058, 333.5727272727273, 'gini = 0.0\\nsamples = 2\\nvalue = [2, 0]'),\n",
       " Text(481.88278008298755, 457.1181818181818, 'X[0] <= 36982.5\\ngini = 0.424\\nsamples = 95\\nvalue = [66, 29]'),\n",
       " Text(430.655601659751, 432.40909090909093, 'X[4] <= 0.5\\ngini = 0.408\\nsamples = 7\\nvalue = [2, 5]'),\n",
       " Text(423.70954356846477, 407.70000000000005, 'X[0] <= 35194.5\\ngini = 0.48\\nsamples = 5\\nvalue = [2, 3]'),\n",
       " Text(416.76348547717845, 382.9909090909091, 'X[0] <= 28642.0\\ngini = 0.444\\nsamples = 3\\nvalue = [2, 1]'),\n",
       " Text(409.81742738589213, 358.28181818181815, 'gini = 0.0\\nsamples = 1\\nvalue = [0, 1]'),\n",
       " Text(423.70954356846477, 358.28181818181815, 'gini = 0.0\\nsamples = 2\\nvalue = [2, 0]'),\n",
       " Text(430.655601659751, 382.9909090909091, 'gini = 0.0\\nsamples = 2\\nvalue = [0, 2]'),\n",
       " Text(437.60165975103735, 407.70000000000005, 'gini = 0.0\\nsamples = 2\\nvalue = [0, 2]'),\n",
       " Text(533.1099585062241, 432.40909090909093, 'X[1] <= 19.5\\ngini = 0.397\\nsamples = 88\\nvalue = [64, 24]'),\n",
       " Text(451.49377593361, 407.70000000000005, 'X[0] <= 52063.0\\ngini = 0.495\\nsamples = 20\\nvalue = [11, 9]'),\n",
       " Text(444.54771784232366, 382.9909090909091, 'gini = 0.0\\nsamples = 4\\nvalue = [4, 0]'),\n",
       " Text(458.4398340248963, 382.9909090909091, 'X[1] <= 18.5\\ngini = 0.492\\nsamples = 16\\nvalue = [7, 9]'),\n",
       " Text(441.0746887966805, 358.28181818181815, 'X[3] <= 0.5\\ngini = 0.444\\nsamples = 6\\nvalue = [4, 2]'),\n",
       " Text(434.1286307053942, 333.5727272727273, 'X[0] <= 118521.0\\ngini = 0.32\\nsamples = 5\\nvalue = [4, 1]'),\n",
       " Text(427.18257261410787, 308.8636363636364, 'gini = 0.0\\nsamples = 4\\nvalue = [4, 0]'),\n",
       " Text(441.0746887966805, 308.8636363636364, 'gini = 0.0\\nsamples = 1\\nvalue = [0, 1]'),\n",
       " Text(448.0207468879668, 333.5727272727273, 'gini = 0.0\\nsamples = 1\\nvalue = [0, 1]'),\n",
       " Text(475.80497925311204, 358.28181818181815, 'X[0] <= 165988.5\\ngini = 0.42\\nsamples = 10\\nvalue = [3, 7]'),\n",
       " Text(461.91286307053946, 333.5727272727273, 'X[3] <= 0.5\\ngini = 0.245\\nsamples = 7\\nvalue = [1, 6]'),\n",
       " Text(454.96680497925314, 308.8636363636364, 'gini = 0.0\\nsamples = 5\\nvalue = [0, 5]'),\n",
       " Text(468.8589211618257, 308.8636363636364, 'X[0] <= 71975.0\\ngini = 0.5\\nsamples = 2\\nvalue = [1, 1]'),\n",
       " Text(461.91286307053946, 284.1545454545455, 'gini = 0.0\\nsamples = 1\\nvalue = [0, 1]'),\n",
       " Text(475.80497925311204, 284.1545454545455, 'gini = 0.0\\nsamples = 1\\nvalue = [1, 0]'),\n",
       " Text(489.6970954356847, 333.5727272727273, 'X[5] <= 0.5\\ngini = 0.444\\nsamples = 3\\nvalue = [2, 1]'),\n",
       " Text(482.75103734439836, 308.8636363636364, 'gini = 0.0\\nsamples = 1\\nvalue = [0, 1]'),\n",
       " Text(496.643153526971, 308.8636363636364, 'gini = 0.0\\nsamples = 2\\nvalue = [2, 0]'),\n",
       " Text(614.7261410788382, 407.70000000000005, 'X[0] <= 186032.5\\ngini = 0.344\\nsamples = 68\\nvalue = [53, 15]'),\n",
       " Text(566.103734439834, 382.9909090909091, 'X[2] <= 0.5\\ngini = 0.312\\nsamples = 62\\nvalue = [50, 12]'),\n",
       " Text(531.3734439834025, 358.28181818181815, 'X[0] <= 53303.5\\ngini = 0.191\\nsamples = 28\\nvalue = [25, 3]'),\n",
       " Text(517.48132780083, 333.5727272727273, 'X[0] <= 52792.5\\ngini = 0.444\\nsamples = 3\\nvalue = [2, 1]'),\n",
       " Text(510.53526970954357, 308.8636363636364, 'gini = 0.0\\nsamples = 2\\nvalue = [2, 0]'),\n",
       " Text(524.4273858921161, 308.8636363636364, 'gini = 0.0\\nsamples = 1\\nvalue = [0, 1]'),\n",
       " Text(545.2655601659751, 333.5727272727273, 'X[1] <= 21.5\\ngini = 0.147\\nsamples = 25\\nvalue = [23, 2]'),\n",
       " Text(538.3195020746888, 308.8636363636364, 'X[0] <= 135975.5\\ngini = 0.278\\nsamples = 12\\nvalue = [10, 2]'),\n",
       " Text(531.3734439834025, 284.1545454545455, 'X[0] <= 132685.0\\ngini = 0.375\\nsamples = 8\\nvalue = [6, 2]'),\n",
       " Text(524.4273858921161, 259.44545454545454, 'X[0] <= 95389.5\\ngini = 0.245\\nsamples = 7\\nvalue = [6, 1]'),\n",
       " Text(517.48132780083, 234.73636363636365, 'gini = 0.0\\nsamples = 3\\nvalue = [3, 0]'),\n",
       " Text(531.3734439834025, 234.73636363636365, 'X[0] <= 118093.0\\ngini = 0.375\\nsamples = 4\\nvalue = [3, 1]'),\n",
       " Text(524.4273858921161, 210.0272727272727, 'gini = 0.0\\nsamples = 1\\nvalue = [0, 1]'),\n",
       " Text(538.3195020746888, 210.0272727272727, 'gini = 0.0\\nsamples = 3\\nvalue = [3, 0]'),\n",
       " Text(538.3195020746888, 259.44545454545454, 'gini = 0.0\\nsamples = 1\\nvalue = [0, 1]'),\n",
       " Text(545.2655601659751, 284.1545454545455, 'gini = 0.0\\nsamples = 4\\nvalue = [4, 0]'),\n",
       " Text(552.2116182572614, 308.8636363636364, 'gini = 0.0\\nsamples = 13\\nvalue = [13, 0]'),\n",
       " Text(600.8340248962655, 358.28181818181815, 'X[0] <= 56486.0\\ngini = 0.389\\nsamples = 34\\nvalue = [25, 9]'),\n",
       " Text(593.8879668049792, 333.5727272727273, 'gini = 0.0\\nsamples = 4\\nvalue = [4, 0]'),\n",
       " Text(607.7800829875519, 333.5727272727273, 'X[3] <= 0.5\\ngini = 0.42\\nsamples = 30\\nvalue = [21, 9]'),\n",
       " Text(573.0497925311204, 308.8636363636364, 'X[0] <= 69691.0\\ngini = 0.32\\nsamples = 20\\nvalue = [16, 4]'),\n",
       " Text(559.1576763485477, 284.1545454545455, 'X[4] <= 0.5\\ngini = 0.444\\nsamples = 3\\nvalue = [1, 2]'),\n",
       " Text(552.2116182572614, 259.44545454545454, 'gini = 0.0\\nsamples = 1\\nvalue = [1, 0]'),\n",
       " Text(566.103734439834, 259.44545454545454, 'gini = 0.0\\nsamples = 2\\nvalue = [0, 2]'),\n",
       " Text(586.941908713693, 284.1545454545455, 'X[0] <= 108627.0\\ngini = 0.208\\nsamples = 17\\nvalue = [15, 2]'),\n",
       " Text(579.9958506224067, 259.44545454545454, 'gini = 0.0\\nsamples = 9\\nvalue = [9, 0]'),\n",
       " Text(593.8879668049792, 259.44545454545454, 'X[0] <= 117512.5\\ngini = 0.375\\nsamples = 8\\nvalue = [6, 2]'),\n",
       " Text(586.941908713693, 234.73636363636365, 'gini = 0.0\\nsamples = 2\\nvalue = [0, 2]'),\n",
       " Text(600.8340248962655, 234.73636363636365, 'gini = 0.0\\nsamples = 6\\nvalue = [6, 0]'),\n",
       " Text(642.5103734439834, 308.8636363636364, 'X[5] <= 0.5\\ngini = 0.5\\nsamples = 10\\nvalue = [5, 5]'),\n",
       " Text(628.6182572614108, 284.1545454545455, 'X[0] <= 175018.0\\ngini = 0.444\\nsamples = 6\\nvalue = [4, 2]'),\n",
       " Text(621.6721991701245, 259.44545454545454, 'X[1] <= 23.5\\ngini = 0.32\\nsamples = 5\\nvalue = [4, 1]'),\n",
       " Text(614.7261410788382, 234.73636363636365, 'gini = 0.0\\nsamples = 3\\nvalue = [3, 0]'),\n",
       " Text(628.6182572614108, 234.73636363636365, 'X[0] <= 138800.0\\ngini = 0.5\\nsamples = 2\\nvalue = [1, 1]'),\n",
       " Text(621.6721991701245, 210.0272727272727, 'gini = 0.0\\nsamples = 1\\nvalue = [0, 1]'),\n",
       " Text(635.5643153526971, 210.0272727272727, 'gini = 0.0\\nsamples = 1\\nvalue = [1, 0]'),\n",
       " Text(635.5643153526971, 259.44545454545454, 'gini = 0.0\\nsamples = 1\\nvalue = [0, 1]'),\n",
       " Text(656.4024896265561, 284.1545454545455, 'X[0] <= 175832.0\\ngini = 0.375\\nsamples = 4\\nvalue = [1, 3]'),\n",
       " Text(649.4564315352698, 259.44545454545454, 'gini = 0.0\\nsamples = 3\\nvalue = [0, 3]'),\n",
       " Text(663.3485477178424, 259.44545454545454, 'gini = 0.0\\nsamples = 1\\nvalue = [1, 0]'),\n",
       " Text(663.3485477178424, 382.9909090909091, 'X[0] <= 193407.5\\ngini = 0.5\\nsamples = 6\\nvalue = [3, 3]'),\n",
       " Text(656.4024896265561, 358.28181818181815, 'X[2] <= 0.5\\ngini = 0.375\\nsamples = 4\\nvalue = [1, 3]'),\n",
       " Text(649.4564315352698, 333.5727272727273, 'gini = 0.0\\nsamples = 2\\nvalue = [0, 2]'),\n",
       " Text(663.3485477178424, 333.5727272727273, 'X[0] <= 190943.0\\ngini = 0.5\\nsamples = 2\\nvalue = [1, 1]'),\n",
       " Text(656.4024896265561, 308.8636363636364, 'gini = 0.0\\nsamples = 1\\nvalue = [1, 0]'),\n",
       " Text(670.2946058091286, 308.8636363636364, 'gini = 0.0\\nsamples = 1\\nvalue = [0, 1]'),\n",
       " Text(670.2946058091286, 358.28181818181815, 'gini = 0.0\\nsamples = 2\\nvalue = [2, 0]'),\n",
       " Text(560.8941908713693, 481.82727272727277, 'X[2] <= 0.5\\ngini = 0.48\\nsamples = 5\\nvalue = [2, 3]'),\n",
       " Text(553.948132780083, 457.1181818181818, 'X[5] <= 0.5\\ngini = 0.375\\nsamples = 4\\nvalue = [1, 3]'),\n",
       " Text(547.0020746887967, 432.40909090909093, 'gini = 0.0\\nsamples = 3\\nvalue = [0, 3]'),\n",
       " Text(560.8941908713693, 432.40909090909093, 'gini = 0.0\\nsamples = 1\\nvalue = [1, 0]'),\n",
       " Text(567.8402489626557, 457.1181818181818, 'gini = 0.0\\nsamples = 1\\nvalue = [1, 0]'),\n",
       " Text(722.3900414937759, 506.53636363636366, 'X[1] <= 25.5\\ngini = 0.262\\nsamples = 103\\nvalue = [87, 16]'),\n",
       " Text(715.4439834024896, 481.82727272727277, 'gini = 0.0\\nsamples = 16\\nvalue = [16, 0]'),\n",
       " Text(729.3360995850622, 481.82727272727277, 'X[0] <= 65500.0\\ngini = 0.3\\nsamples = 87\\nvalue = [71, 16]'),\n",
       " Text(705.0248962655602, 457.1181818181818, 'X[0] <= 35706.0\\ngini = 0.111\\nsamples = 17\\nvalue = [16, 1]'),\n",
       " Text(698.0788381742739, 432.40909090909093, 'X[2] <= 0.5\\ngini = 0.32\\nsamples = 5\\nvalue = [4, 1]'),\n",
       " Text(691.1327800829876, 407.70000000000005, 'gini = 0.0\\nsamples = 4\\nvalue = [4, 0]'),\n",
       " Text(705.0248962655602, 407.70000000000005, 'gini = 0.0\\nsamples = 1\\nvalue = [0, 1]'),\n",
       " Text(711.9709543568465, 432.40909090909093, 'gini = 0.0\\nsamples = 12\\nvalue = [12, 0]'),\n",
       " Text(753.6473029045643, 457.1181818181818, 'X[0] <= 68980.0\\ngini = 0.337\\nsamples = 70\\nvalue = [55, 15]'),\n",
       " Text(746.701244813278, 432.40909090909093, 'gini = 0.0\\nsamples = 2\\nvalue = [0, 2]'),\n",
       " Text(760.5933609958506, 432.40909090909093, 'X[3] <= 0.5\\ngini = 0.309\\nsamples = 68\\nvalue = [55, 13]'),\n",
       " Text(718.9170124481328, 407.70000000000005, 'X[1] <= 29.5\\ngini = 0.245\\nsamples = 49\\nvalue = [42, 7]'),\n",
       " Text(705.0248962655602, 382.9909090909091, 'X[0] <= 194908.0\\ngini = 0.142\\nsamples = 39\\nvalue = [36, 3]'),\n",
       " Text(698.0788381742739, 358.28181818181815, 'X[0] <= 105872.5\\ngini = 0.1\\nsamples = 38\\nvalue = [36, 2]'),\n",
       " Text(691.1327800829876, 333.5727272727273, 'X[0] <= 100750.5\\ngini = 0.298\\nsamples = 11\\nvalue = [9, 2]'),\n",
       " Text(684.1867219917012, 308.8636363636364, 'X[1] <= 28.5\\ngini = 0.18\\nsamples = 10\\nvalue = [9, 1]'),\n",
       " Text(677.2406639004149, 284.1545454545455, 'gini = 0.0\\nsamples = 6\\nvalue = [6, 0]'),\n",
       " Text(691.1327800829876, 284.1545454545455, 'X[2] <= 0.5\\ngini = 0.375\\nsamples = 4\\nvalue = [3, 1]'),\n",
       " Text(684.1867219917012, 259.44545454545454, 'X[0] <= 89445.0\\ngini = 0.5\\nsamples = 2\\nvalue = [1, 1]'),\n",
       " Text(677.2406639004149, 234.73636363636365, 'gini = 0.0\\nsamples = 1\\nvalue = [0, 1]'),\n",
       " Text(691.1327800829876, 234.73636363636365, 'gini = 0.0\\nsamples = 1\\nvalue = [1, 0]'),\n",
       " Text(698.0788381742739, 259.44545454545454, 'gini = 0.0\\nsamples = 2\\nvalue = [2, 0]'),\n",
       " Text(698.0788381742739, 308.8636363636364, 'gini = 0.0\\nsamples = 1\\nvalue = [0, 1]'),\n",
       " Text(705.0248962655602, 333.5727272727273, 'gini = 0.0\\nsamples = 27\\nvalue = [27, 0]'),\n",
       " Text(711.9709543568465, 358.28181818181815, 'gini = 0.0\\nsamples = 1\\nvalue = [0, 1]'),\n",
       " Text(732.8091286307055, 382.9909090909091, 'X[0] <= 121060.5\\ngini = 0.48\\nsamples = 10\\nvalue = [6, 4]'),\n",
       " Text(725.8630705394191, 358.28181818181815, 'gini = 0.0\\nsamples = 3\\nvalue = [3, 0]'),\n",
       " Text(739.7551867219918, 358.28181818181815, 'X[0] <= 136890.5\\ngini = 0.49\\nsamples = 7\\nvalue = [3, 4]'),\n",
       " Text(732.8091286307055, 333.5727272727273, 'gini = 0.0\\nsamples = 3\\nvalue = [0, 3]'),\n",
       " Text(746.701244813278, 333.5727272727273, 'X[0] <= 182958.0\\ngini = 0.375\\nsamples = 4\\nvalue = [3, 1]'),\n",
       " Text(739.7551867219918, 308.8636363636364, 'gini = 0.0\\nsamples = 3\\nvalue = [3, 0]'),\n",
       " Text(753.6473029045643, 308.8636363636364, 'gini = 0.0\\nsamples = 1\\nvalue = [0, 1]'),\n",
       " Text(802.2697095435685, 407.70000000000005, 'X[0] <= 178582.5\\ngini = 0.432\\nsamples = 19\\nvalue = [13, 6]'),\n",
       " Text(795.3236514522822, 382.9909090909091, 'X[0] <= 163075.0\\ngini = 0.49\\nsamples = 14\\nvalue = [8, 6]'),\n",
       " Text(788.3775933609959, 358.28181818181815, 'X[0] <= 86578.0\\ngini = 0.444\\nsamples = 12\\nvalue = [8, 4]'),\n",
       " Text(774.4854771784233, 333.5727272727273, 'X[0] <= 76867.5\\ngini = 0.444\\nsamples = 3\\nvalue = [1, 2]'),\n",
       " Text(767.5394190871369, 308.8636363636364, 'gini = 0.0\\nsamples = 1\\nvalue = [1, 0]'),\n",
       " Text(781.4315352697096, 308.8636363636364, 'gini = 0.0\\nsamples = 2\\nvalue = [0, 2]'),\n",
       " Text(802.2697095435685, 333.5727272727273, 'X[0] <= 102061.5\\ngini = 0.346\\nsamples = 9\\nvalue = [7, 2]'),\n",
       " Text(795.3236514522822, 308.8636363636364, 'gini = 0.0\\nsamples = 3\\nvalue = [3, 0]'),\n",
       " Text(809.2157676348548, 308.8636363636364, 'X[0] <= 108936.0\\ngini = 0.444\\nsamples = 6\\nvalue = [4, 2]'),\n",
       " Text(802.2697095435685, 284.1545454545455, 'gini = 0.0\\nsamples = 1\\nvalue = [0, 1]'),\n",
       " Text(816.161825726141, 284.1545454545455, 'X[0] <= 134788.5\\ngini = 0.32\\nsamples = 5\\nvalue = [4, 1]'),\n",
       " Text(809.2157676348548, 259.44545454545454, 'gini = 0.0\\nsamples = 2\\nvalue = [2, 0]'),\n",
       " Text(823.1078838174274, 259.44545454545454, 'X[0] <= 143397.0\\ngini = 0.444\\nsamples = 3\\nvalue = [2, 1]'),\n",
       " Text(816.161825726141, 234.73636363636365, 'gini = 0.0\\nsamples = 1\\nvalue = [0, 1]'),\n",
       " Text(830.0539419087137, 234.73636363636365, 'gini = 0.0\\nsamples = 2\\nvalue = [2, 0]'),\n",
       " Text(802.2697095435685, 358.28181818181815, 'gini = 0.0\\nsamples = 2\\nvalue = [0, 2]'),\n",
       " Text(809.2157676348548, 382.9909090909091, 'gini = 0.0\\nsamples = 5\\nvalue = [5, 0]')]"
      ]
     },
     "execution_count": 60,
     "metadata": {},
     "output_type": "execute_result"
    },
    {
     "data": {
      "image/png": "[encoded data removed]",
      "text/plain": [
       "<Figure size 1080x720 with 1 Axes>"
      ]
     },
     "metadata": {
      "needs_background": "light"
     },
     "output_type": "display_data"
    }
   ],
   "source": [
    "plt.figure(figsize=(15,10))\n",
    "tree.plot_tree(model1, filled=True)"
   ]
  },
  {
   "cell_type": "code",
   "execution_count": 61,
   "metadata": {},
   "outputs": [],
   "source": [
    "# Accuracy of the model"
   ]
  },
  {
   "cell_type": "code",
   "execution_count": 62,
   "metadata": {},
   "outputs": [
    {
     "data": {
      "text/plain": [
       "0.6416666666666667"
      ]
     },
     "execution_count": 62,
     "metadata": {},
     "output_type": "execute_result"
    }
   ],
   "source": [
    "Accuracy_gini = accuracy_score(y_pred1,y_test)\n",
    "Accuracy_gini"
   ]
  },
  {
   "cell_type": "code",
   "execution_count": 63,
   "metadata": {},
   "outputs": [],
   "source": [
    "# Checking the accuracy of the model with different max_depth values from 3 to 10"
   ]
  },
  {
   "cell_type": "code",
   "execution_count": 64,
   "metadata": {},
   "outputs": [],
   "source": [
    "# List of values to try for max_depth:\n",
    "max_depth_range = list(range(3, 10))                   # List to store the average RMSE for each value of max_depth:\n",
    "accuracy = []\n",
    "for depth in max_depth_range:\n",
    "    clf = DecisionTreeClassifier(criterion=\"entropy\",max_depth = depth, \n",
    "                             random_state = 0)\n",
    "    clf.fit(x_train, y_train)    \n",
    "    score = clf.score(x_test, y_test)\n",
    "    accuracy.append(score)"
   ]
  },
  {
   "cell_type": "code",
   "execution_count": 65,
   "metadata": {},
   "outputs": [
    {
     "data": {
      "text/plain": [
       "[0.8416666666666667,\n",
       " 0.825,\n",
       " 0.7916666666666666,\n",
       " 0.7833333333333333,\n",
       " 0.7833333333333333,\n",
       " 0.8,\n",
       " 0.7916666666666666]"
      ]
     },
     "execution_count": 65,
     "metadata": {},
     "output_type": "execute_result"
    }
   ],
   "source": [
    "accuracy"
   ]
  },
  {
   "cell_type": "code",
   "execution_count": 66,
   "metadata": {},
   "outputs": [],
   "source": [
    "# The maximum accuracy can be obtained with max_depth as 3"
   ]
  },
  {
   "cell_type": "code",
   "execution_count": 67,
   "metadata": {},
   "outputs": [],
   "source": [
    "# Changing the max_depth to 3 and building the model"
   ]
  },
  {
   "cell_type": "code",
   "execution_count": 68,
   "metadata": {},
   "outputs": [],
   "source": [
    "model2 = DecisionTreeClassifier(criterion=\"entropy\", max_depth=3)"
   ]
  },
  {
   "cell_type": "code",
   "execution_count": 69,
   "metadata": {},
   "outputs": [
    {
     "data": {
      "text/plain": [
       "DecisionTreeClassifier(criterion='entropy', max_depth=3)"
      ]
     },
     "execution_count": 69,
     "metadata": {},
     "output_type": "execute_result"
    }
   ],
   "source": [
    "model2.fit(x_train,y_train)"
   ]
  },
  {
   "cell_type": "code",
   "execution_count": 70,
   "metadata": {},
   "outputs": [],
   "source": [
    "# Predicting the target value using the model"
   ]
  },
  {
   "cell_type": "code",
   "execution_count": 71,
   "metadata": {},
   "outputs": [
    {
     "data": {
      "text/plain": [
       "array(['Good', 'Good', 'Good', 'Good', 'Good', 'Good', 'Good', 'Good',\n",
       "       'Good', 'Good', 'Good', 'Good', 'Good', 'Good', 'Good', 'Good',\n",
       "       'Good', 'Good', 'Good', 'Good', 'Good', 'Good', 'Good', 'Good',\n",
       "       'Good', 'Good', 'Good', 'Good', 'Good', 'Good', 'Good', 'Good',\n",
       "       'Good', 'Good', 'Good', 'Good', 'Good', 'Good', 'Good', 'Good',\n",
       "       'Good', 'Good', 'Good', 'Good', 'Good', 'Good', 'Good', 'Good',\n",
       "       'Good', 'Good', 'Good', 'Good', 'Good', 'Good', 'Good', 'Good',\n",
       "       'Good', 'Good', 'Good', 'Good', 'Good', 'Good', 'Good', 'Good',\n",
       "       'Good', 'Good', 'Good', 'Good', 'Good', 'Good', 'Good', 'Good',\n",
       "       'Good', 'Good', 'Good', 'Good', 'Good', 'Good', 'Good', 'Good',\n",
       "       'Good', 'Good', 'Good', 'Good', 'Good', 'Good', 'Good', 'Good',\n",
       "       'Good', 'Good', 'Good', 'Good', 'Good', 'Good', 'Good', 'Good',\n",
       "       'Good', 'Good', 'Good', 'Good', 'Good', 'Good', 'Good', 'Good',\n",
       "       'Good', 'Good', 'Good', 'Good', 'Good', 'Good', 'Good', 'Good',\n",
       "       'Good', 'Good', 'Good', 'Good', 'Good', 'Good', 'Good', 'Good'],\n",
       "      dtype=object)"
      ]
     },
     "execution_count": 71,
     "metadata": {},
     "output_type": "execute_result"
    }
   ],
   "source": [
    "y_pred2= model2.predict(x_test)\n",
    "y_pred2"
   ]
  },
  {
   "cell_type": "code",
   "execution_count": 72,
   "metadata": {},
   "outputs": [],
   "source": [
    "# Confusion matrix"
   ]
  },
  {
   "cell_type": "code",
   "execution_count": 73,
   "metadata": {},
   "outputs": [
    {
     "data": {
      "text/plain": [
       "array([[101,  19],\n",
       "       [  0,   0]], dtype=int64)"
      ]
     },
     "execution_count": 73,
     "metadata": {},
     "output_type": "execute_result"
    }
   ],
   "source": [
    "confusion_matrix(y_pred2,y_test)"
   ]
  },
  {
   "cell_type": "code",
   "execution_count": 74,
   "metadata": {},
   "outputs": [],
   "source": [
    "# Visualizing the Decision tree"
   ]
  },
  {
   "cell_type": "code",
   "execution_count": 75,
   "metadata": {},
   "outputs": [
    {
     "data": {
      "text/plain": [
       "[Text(453.375, 475.65000000000003, 'X[1] <= 24.5\\nentropy = 0.758\\nsamples = 480\\nvalue = [375, 105]'),\n",
       " Text(279.0, 339.75, 'X[1] <= 2.5\\nentropy = 0.788\\nsamples = 377\\nvalue = [288, 89]'),\n",
       " Text(139.5, 203.85000000000002, 'X[4] <= 0.5\\nentropy = 0.513\\nsamples = 35\\nvalue = [31, 4]'),\n",
       " Text(69.75, 67.94999999999999, 'entropy = 0.65\\nsamples = 24\\nvalue = [20, 4]'),\n",
       " Text(209.25, 67.94999999999999, 'entropy = 0.0\\nsamples = 11\\nvalue = [11, 0]'),\n",
       " Text(418.5, 203.85000000000002, 'X[0] <= 37812.5\\nentropy = 0.809\\nsamples = 342\\nvalue = [257, 85]'),\n",
       " Text(348.75, 67.94999999999999, 'entropy = 0.971\\nsamples = 25\\nvalue = [15, 10]'),\n",
       " Text(488.25, 67.94999999999999, 'entropy = 0.789\\nsamples = 317\\nvalue = [242, 75]'),\n",
       " Text(627.75, 339.75, 'X[1] <= 25.5\\nentropy = 0.623\\nsamples = 103\\nvalue = [87, 16]'),\n",
       " Text(558.0, 203.85000000000002, 'entropy = 0.0\\nsamples = 16\\nvalue = [16, 0]'),\n",
       " Text(697.5, 203.85000000000002, 'X[0] <= 65500.0\\nentropy = 0.689\\nsamples = 87\\nvalue = [71, 16]'),\n",
       " Text(627.75, 67.94999999999999, 'entropy = 0.323\\nsamples = 17\\nvalue = [16, 1]'),\n",
       " Text(767.25, 67.94999999999999, 'entropy = 0.75\\nsamples = 70\\nvalue = [55, 15]')]"
      ]
     },
     "execution_count": 75,
     "metadata": {},
     "output_type": "execute_result"
    },
    {
     "data": {
      "image/png": "[encoded data removed]",
      "text/plain": [
       "<Figure size 1080x720 with 1 Axes>"
      ]
     },
     "metadata": {
      "needs_background": "light"
     },
     "output_type": "display_data"
    }
   ],
   "source": [
    "plt.figure(figsize=(15,10))\n",
    "tree.plot_tree(model2, filled=True)"
   ]
  },
  {
   "cell_type": "code",
   "execution_count": 76,
   "metadata": {},
   "outputs": [],
   "source": [
    "# Accuracy "
   ]
  },
  {
   "cell_type": "code",
   "execution_count": 77,
   "metadata": {},
   "outputs": [
    {
     "data": {
      "text/plain": [
       "0.8416666666666667"
      ]
     },
     "execution_count": 77,
     "metadata": {},
     "output_type": "execute_result"
    }
   ],
   "source": [
    "Accuracy_depth3 = accuracy_score(y_pred2,y_test)\n",
    "Accuracy_depth3"
   ]
  },
  {
   "cell_type": "code",
   "execution_count": 78,
   "metadata": {},
   "outputs": [],
   "source": [
    "# Improving the accuracy of the model using \"bagging\" and \"boosting\" techniques"
   ]
  },
  {
   "cell_type": "code",
   "execution_count": 79,
   "metadata": {},
   "outputs": [],
   "source": [
    "from sklearn.ensemble import BaggingClassifier\n",
    "from sklearn.ensemble import AdaBoostClassifier"
   ]
  },
  {
   "cell_type": "markdown",
   "metadata": {},
   "source": [
    "## Bagging"
   ]
  },
  {
   "cell_type": "code",
   "execution_count": 80,
   "metadata": {},
   "outputs": [],
   "source": [
    "bg = BaggingClassifier(DecisionTreeClassifier(),max_samples=0.5,max_features=1.0, n_estimators=20)"
   ]
  },
  {
   "cell_type": "code",
   "execution_count": 81,
   "metadata": {},
   "outputs": [
    {
     "data": {
      "text/plain": [
       "BaggingClassifier(base_estimator=DecisionTreeClassifier(), max_samples=0.5,\n",
       "                  n_estimators=20)"
      ]
     },
     "execution_count": 81,
     "metadata": {},
     "output_type": "execute_result"
    }
   ],
   "source": [
    "bg.fit(x_train, y_train)"
   ]
  },
  {
   "cell_type": "code",
   "execution_count": 82,
   "metadata": {},
   "outputs": [
    {
     "data": {
      "text/plain": [
       "0.8083333333333333"
      ]
     },
     "execution_count": 82,
     "metadata": {},
     "output_type": "execute_result"
    }
   ],
   "source": [
    "Accuracy_bag =bg.score(x_test, y_test)\n",
    "Accuracy_bag"
   ]
  },
  {
   "cell_type": "code",
   "execution_count": 83,
   "metadata": {},
   "outputs": [],
   "source": [
    "# Bagging technique hasn't increased the accuracy of the model much"
   ]
  },
  {
   "cell_type": "markdown",
   "metadata": {},
   "source": [
    "## Boosting"
   ]
  },
  {
   "cell_type": "code",
   "execution_count": 84,
   "metadata": {},
   "outputs": [],
   "source": [
    "ada = AdaBoostClassifier(DecisionTreeClassifier(),n_estimators=50,learning_rate=1)"
   ]
  },
  {
   "cell_type": "code",
   "execution_count": 85,
   "metadata": {},
   "outputs": [
    {
     "data": {
      "text/plain": [
       "AdaBoostClassifier(base_estimator=DecisionTreeClassifier(), learning_rate=1)"
      ]
     },
     "execution_count": 85,
     "metadata": {},
     "output_type": "execute_result"
    }
   ],
   "source": [
    "ada.fit(x_train,y_train)"
   ]
  },
  {
   "cell_type": "code",
   "execution_count": 86,
   "metadata": {},
   "outputs": [
    {
     "data": {
      "text/plain": [
       "0.6166666666666667"
      ]
     },
     "execution_count": 86,
     "metadata": {},
     "output_type": "execute_result"
    }
   ],
   "source": [
    "Accuracy_boost =ada.score(x_test, y_test)\n",
    "Accuracy_boost"
   ]
  },
  {
   "cell_type": "code",
   "execution_count": 87,
   "metadata": {},
   "outputs": [],
   "source": [
    "# Boosting technique hasn't increased the accuracy of the model much"
   ]
  },
  {
   "cell_type": "code",
   "execution_count": 88,
   "metadata": {},
   "outputs": [],
   "source": [
    "# Tabulating all the results"
   ]
  },
  {
   "cell_type": "code",
   "execution_count": 89,
   "metadata": {},
   "outputs": [],
   "source": [
    "accuracies = {\"Method\":pd.Series([\"Decisiontree_entropy\",\"Decisiontree_gini\",\"Decisiontree_entropy_depth3\",\"Bagging\",\"Boosting\"]),\"Accuracy_values\":(Accuracy_entropy,Accuracy_gini,Accuracy_depth3,Accuracy_bag,Accuracy_boost)}"
   ]
  },
  {
   "cell_type": "code",
   "execution_count": 90,
   "metadata": {
    "scrolled": true
   },
   "outputs": [
    {
     "data": {
      "text/html": [
       "<div>\n",
       "<style scoped>\n",
       "    .dataframe tbody tr th:only-of-type {\n",
       "        vertical-align: middle;\n",
       "    }\n",
       "\n",
       "    .dataframe tbody tr th {\n",
       "        vertical-align: top;\n",
       "    }\n",
       "\n",
       "    .dataframe thead th {\n",
       "        text-align: right;\n",
       "    }\n",
       "</style>\n",
       "<table border=\"1\" class=\"dataframe\">\n",
       "  <thead>\n",
       "    <tr style=\"text-align: right;\">\n",
       "      <th></th>\n",
       "      <th>Method</th>\n",
       "      <th>Accuracy_values</th>\n",
       "    </tr>\n",
       "  </thead>\n",
       "  <tbody>\n",
       "    <tr>\n",
       "      <td>0</td>\n",
       "      <td>Decisiontree_entropy</td>\n",
       "      <td>0.675000</td>\n",
       "    </tr>\n",
       "    <tr>\n",
       "      <td>1</td>\n",
       "      <td>Decisiontree_gini</td>\n",
       "      <td>0.641667</td>\n",
       "    </tr>\n",
       "    <tr>\n",
       "      <td>2</td>\n",
       "      <td>Decisiontree_entropy_depth3</td>\n",
       "      <td>0.841667</td>\n",
       "    </tr>\n",
       "    <tr>\n",
       "      <td>3</td>\n",
       "      <td>Bagging</td>\n",
       "      <td>0.808333</td>\n",
       "    </tr>\n",
       "    <tr>\n",
       "      <td>4</td>\n",
       "      <td>Boosting</td>\n",
       "      <td>0.616667</td>\n",
       "    </tr>\n",
       "  </tbody>\n",
       "</table>\n",
       "</div>"
      ],
      "text/plain": [
       "                        Method  Accuracy_values\n",
       "0         Decisiontree_entropy         0.675000\n",
       "1            Decisiontree_gini         0.641667\n",
       "2  Decisiontree_entropy_depth3         0.841667\n",
       "3                      Bagging         0.808333\n",
       "4                     Boosting         0.616667"
      ]
     },
     "execution_count": 90,
     "metadata": {},
     "output_type": "execute_result"
    }
   ],
   "source": [
    "table_accuracies = pd.DataFrame(accuracies)\n",
    "table_accuracies"
   ]
  },
  {
   "cell_type": "markdown",
   "metadata": {},
   "source": [
    "## Observations"
   ]
  },
  {
   "cell_type": "code",
   "execution_count": 91,
   "metadata": {},
   "outputs": [],
   "source": [
    "# The DecisionTree model with \"entropy\" criterion and with max_depth of 3 has given the highest accuracy of 84.1 % amongst all\n",
    "# Bagging(Bootstrapping) technique has also increased the accuracy of the model to 80.8 %"
   ]
  }
 ],
 "metadata": {
  "kernelspec": {
   "display_name": "Python 3",
   "language": "python",
   "name": "python3"
  },
  "language_info": {
   "codemirror_mode": {
    "name": "ipython",
    "version": 3
   },
   "file_extension": ".py",
   "mimetype": "text/x-python",
   "name": "python",
   "nbconvert_exporter": "python",
   "pygments_lexer": "ipython3",
   "version": "3.7.4"
  }
 },
 "nbformat": 4,
 "nbformat_minor": 2
}
